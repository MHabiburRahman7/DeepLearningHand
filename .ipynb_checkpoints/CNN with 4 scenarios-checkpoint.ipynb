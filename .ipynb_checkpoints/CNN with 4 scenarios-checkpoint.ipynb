{
 "cells": [
  {
   "cell_type": "code",
   "execution_count": null,
   "metadata": {},
   "outputs": [],
   "source": [
    "#this is from : https://github.com/khanhnamle1994/fashion-mnist/blob/master/CNN-1Conv.ipynb"
   ]
  },
  {
   "cell_type": "code",
   "execution_count": 1,
   "metadata": {},
   "outputs": [],
   "source": [
    "import numpy as np\n",
    "import pandas as pd\n",
    "import matplotlib.pyplot as plt\n",
    "import time"
   ]
  },
  {
   "cell_type": "code",
   "execution_count": 2,
   "metadata": {},
   "outputs": [],
   "source": [
    "time_arr = []"
   ]
  },
  {
   "cell_type": "code",
   "execution_count": 3,
   "metadata": {},
   "outputs": [
    {
     "name": "stderr",
     "output_type": "stream",
     "text": [
      "Using TensorFlow backend.\n"
     ]
    }
   ],
   "source": [
    "# Import libraries\n",
    "from keras.utils import to_categorical\n",
    "from sklearn.model_selection import train_test_split\n",
    "#binarize label because our label is nominal\n",
    "from sklearn.preprocessing import LabelBinarizer\n",
    "label_binrizer = LabelBinarizer()\n",
    "\n",
    "# Load training and test data into dataframes\n",
    "train_set = pd.read_csv('Dataset/sign_mnist_train.csv')\n",
    "test_set = pd.read_csv('Dataset/sign_mnist_test.csv')\n",
    "\n",
    "# X forms the training images, and y forms the training labels\n",
    "X = np.array(train_set.iloc[:, 1:])\n",
    "#y = to_categorical(np.array(data_train.iloc[:, 0]))\n",
    "y = label_binrizer.fit_transform(np.array(train_set.iloc[:, 0]))\n",
    "\n",
    "# Here I split original training data to sub-training (80%) and validation data (20%)\n",
    "X_train, X_val, y_train, y_val = train_test_split(X, y, test_size=0.3, random_state=13)\n",
    "\n",
    "# X_test forms the test images, and y_test forms the test labels\n",
    "X_test = np.array(test_set.iloc[:, 1:])\n",
    "#y_test = to_categorical(np.array(data_train.iloc[:, 0]))\n",
    "y_test = label_binrizer.fit_transform(np.array(test_set.iloc[:, 0]))"
   ]
  },
  {
   "cell_type": "code",
   "execution_count": null,
   "metadata": {
    "scrolled": true
   },
   "outputs": [],
   "source": [
    "#binarize label because our label is nominal\n",
    "from sklearn.preprocessing import LabelBinarizer\n",
    "label_binrizer = LabelBinarizer()\n",
    "label_train = label_binrizer.fit_transform(np.array(data_train.iloc[:, 0]))"
   ]
  },
  {
   "cell_type": "code",
   "execution_count": null,
   "metadata": {},
   "outputs": [],
   "source": [
    "y.shape"
   ]
  },
  {
   "cell_type": "code",
   "execution_count": null,
   "metadata": {},
   "outputs": [],
   "source": []
  },
  {
   "cell_type": "code",
   "execution_count": null,
   "metadata": {},
   "outputs": [],
   "source": [
    "#make label as unique value\n",
    "unique_train_val = np.array(y)\n",
    "np.unique(unique_train_val)"
   ]
  },
  {
   "cell_type": "code",
   "execution_count": null,
   "metadata": {},
   "outputs": [],
   "source": [
    "#let see image after its normalized\n",
    "plt.imshow(X[0].reshape(28,28))"
   ]
  },
  {
   "cell_type": "code",
   "execution_count": 4,
   "metadata": {},
   "outputs": [],
   "source": [
    "# Each image's dimension is 28 x 28\n",
    "img_rows, img_cols = 28, 28\n",
    "input_shape = (img_rows, img_cols, 1)\n",
    "\n",
    "# Prepare the training images\n",
    "X_train = X_train.reshape(X_train.shape[0], img_rows, img_cols, 1)\n",
    "X_train = X_train.astype('float32')\n",
    "X_train /= 255\n",
    "\n",
    "# Prepare the test images\n",
    "X_test = X_test.reshape(X_test.shape[0], img_rows, img_cols, 1)\n",
    "X_test = X_test.astype('float32')\n",
    "X_test /= 255\n",
    "\n",
    "# Prepare the validation images\n",
    "X_val = X_val.reshape(X_val.shape[0], img_rows, img_cols, 1)\n",
    "X_val = X_val.astype('float32')\n",
    "X_val /= 255"
   ]
  },
  {
   "cell_type": "code",
   "execution_count": 5,
   "metadata": {},
   "outputs": [],
   "source": [
    "# Import Keras libraries\n",
    "import keras\n",
    "from keras.models import Sequential\n",
    "from keras.layers import Dense, Dropout, Flatten\n",
    "from keras.layers import Conv2D, MaxPooling2D, BatchNormalization"
   ]
  },
  {
   "cell_type": "code",
   "execution_count": 6,
   "metadata": {},
   "outputs": [
    {
     "name": "stdout",
     "output_type": "stream",
     "text": [
      "WARNING:tensorflow:From C:\\ProgramData\\Anaconda3\\lib\\site-packages\\tensorflow\\python\\framework\\op_def_library.py:263: colocate_with (from tensorflow.python.framework.ops) is deprecated and will be removed in a future version.\n",
      "Instructions for updating:\n",
      "Colocations handled automatically by placer.\n",
      "WARNING:tensorflow:From C:\\ProgramData\\Anaconda3\\lib\\site-packages\\keras\\backend\\tensorflow_backend.py:3445: calling dropout (from tensorflow.python.ops.nn_ops) with keep_prob is deprecated and will be removed in a future version.\n",
      "Instructions for updating:\n",
      "Please use `rate` instead of `keep_prob`. Rate should be set to `rate = 1 - keep_prob`.\n"
     ]
    }
   ],
   "source": [
    "# Single Layer CNN\n",
    "cnn1 = Sequential()\n",
    "cnn1.add(Conv2D(32, kernel_size=(3, 3), activation='relu', input_shape=input_shape))\n",
    "cnn1.add(MaxPooling2D(pool_size=(2, 2)))\n",
    "cnn1.add(Dropout(0.2))\n",
    "\n",
    "cnn1.add(Flatten())\n",
    "\n",
    "cnn1.add(Dense(128, activation='relu'))\n",
    "cnn1.add(Dense(24, activation='softmax'))\n",
    "\n",
    "cnn1.compile(loss=keras.losses.categorical_crossentropy,\n",
    "              optimizer=keras.optimizers.Adam(),\n",
    "              metrics=['accuracy'])"
   ]
  },
  {
   "cell_type": "code",
   "execution_count": null,
   "metadata": {},
   "outputs": [],
   "source": [
    "cnn1.summary()"
   ]
  },
  {
   "cell_type": "code",
   "execution_count": 7,
   "metadata": {},
   "outputs": [
    {
     "name": "stdout",
     "output_type": "stream",
     "text": [
      "WARNING:tensorflow:From C:\\ProgramData\\Anaconda3\\lib\\site-packages\\tensorflow\\python\\ops\\math_ops.py:3066: to_int32 (from tensorflow.python.ops.math_ops) is deprecated and will be removed in a future version.\n",
      "Instructions for updating:\n",
      "Use tf.cast instead.\n",
      "Train on 19218 samples, validate on 8237 samples\n",
      "Epoch 1/10\n",
      "19218/19218 [==============================] - 9s 466us/step - loss: 2.5216 - acc: 0.3171 - val_loss: 1.6482 - val_acc: 0.5416\n",
      "Epoch 2/10\n",
      "19218/19218 [==============================] - 10s 495us/step - loss: 1.2717 - acc: 0.6497 - val_loss: 0.9558 - val_acc: 0.7340\n",
      "Epoch 3/10\n",
      "19218/19218 [==============================] - 9s 457us/step - loss: 0.8084 - acc: 0.7911 - val_loss: 0.6197 - val_acc: 0.8533\n",
      "Epoch 4/10\n",
      "19218/19218 [==============================] - 8s 442us/step - loss: 0.5466 - acc: 0.8699 - val_loss: 0.4398 - val_acc: 0.8975\n",
      "Epoch 5/10\n",
      "19218/19218 [==============================] - 9s 450us/step - loss: 0.3873 - acc: 0.9100 - val_loss: 0.3207 - val_acc: 0.9307\n",
      "Epoch 6/10\n",
      "19218/19218 [==============================] - 9s 446us/step - loss: 0.2871 - acc: 0.9393 - val_loss: 0.2808 - val_acc: 0.9266\n",
      "Epoch 7/10\n",
      "19218/19218 [==============================] - 9s 448us/step - loss: 0.2204 - acc: 0.9565 - val_loss: 0.1698 - val_acc: 0.9722\n",
      "Epoch 8/10\n",
      "19218/19218 [==============================] - 8s 414us/step - loss: 0.1606 - acc: 0.9739 - val_loss: 0.1232 - val_acc: 0.9856\n",
      "Epoch 9/10\n",
      "19218/19218 [==============================] - 8s 416us/step - loss: 0.1197 - acc: 0.9857 - val_loss: 0.0923 - val_acc: 0.9932\n",
      "Epoch 10/10\n",
      "19218/19218 [==============================] - 8s 417us/step - loss: 0.0924 - acc: 0.9926 - val_loss: 0.0699 - val_acc: 0.9977\n",
      "--- 85.80484867095947 seconds ---\n"
     ]
    }
   ],
   "source": [
    "start_time = time.time()\n",
    "history1 = cnn1.fit(X_train, y_train,\n",
    "          batch_size=256,\n",
    "          epochs=10,\n",
    "          verbose=1,\n",
    "          validation_data=(X_val, y_val))\n",
    "\n",
    "print(\"--- %s seconds ---\" % (time.time() - start_time))\n",
    "time_arr.append(time.time() - start_time)"
   ]
  },
  {
   "cell_type": "code",
   "execution_count": 8,
   "metadata": {
    "scrolled": true
   },
   "outputs": [
    {
     "name": "stdout",
     "output_type": "stream",
     "text": [
      "Test loss: 0.6059542833279447\n",
      "Test accuracy: 0.8184606804238707\n"
     ]
    }
   ],
   "source": [
    "score1 = cnn1.evaluate(X_test, y_test, verbose=0)\n",
    "print('Test loss:', score1[0])\n",
    "print('Test accuracy:', score1[1])"
   ]
  },
  {
   "cell_type": "code",
   "execution_count": 9,
   "metadata": {},
   "outputs": [],
   "source": [
    "# 3 Layer CNN\n",
    "cnn3 = Sequential()\n",
    "cnn3.add(Conv2D(32, kernel_size=(3, 3), activation='relu', input_shape=input_shape))\n",
    "cnn3.add(MaxPooling2D((2, 2)))\n",
    "cnn3.add(Dropout(0.25))\n",
    "\n",
    "cnn3.add(Conv2D(64, kernel_size=(3, 3), activation='relu'))\n",
    "cnn3.add(MaxPooling2D(pool_size=(2, 2)))\n",
    "cnn3.add(Dropout(0.25))\n",
    "\n",
    "cnn3.add(Conv2D(128, kernel_size=(3, 3), activation='relu'))\n",
    "cnn3.add(Dropout(0.4))\n",
    "\n",
    "cnn3.add(Flatten())\n",
    "\n",
    "cnn3.add(Dense(128, activation='relu'))\n",
    "cnn3.add(Dropout(0.3))\n",
    "cnn3.add(Dense(24, activation='softmax'))\n",
    "\n",
    "cnn3.compile(loss=keras.losses.categorical_crossentropy,\n",
    "              optimizer=keras.optimizers.Adam(),\n",
    "              metrics=['accuracy'])"
   ]
  },
  {
   "cell_type": "code",
   "execution_count": null,
   "metadata": {},
   "outputs": [],
   "source": [
    "cnn3.summary()"
   ]
  },
  {
   "cell_type": "code",
   "execution_count": 10,
   "metadata": {},
   "outputs": [
    {
     "name": "stdout",
     "output_type": "stream",
     "text": [
      "Train on 19218 samples, validate on 8237 samples\n",
      "Epoch 1/10\n",
      "19218/19218 [==============================] - 14s 741us/step - loss: 3.0248 - acc: 0.0921 - val_loss: 2.2684 - val_acc: 0.3187\n",
      "Epoch 2/10\n",
      "19218/19218 [==============================] - 14s 726us/step - loss: 1.7528 - acc: 0.4361 - val_loss: 0.9127 - val_acc: 0.7533\n",
      "Epoch 3/10\n",
      "19218/19218 [==============================] - 14s 723us/step - loss: 0.9582 - acc: 0.6773 - val_loss: 0.4488 - val_acc: 0.8870\n",
      "Epoch 4/10\n",
      "19218/19218 [==============================] - 15s 765us/step - loss: 0.6325 - acc: 0.7822 - val_loss: 0.2595 - val_acc: 0.9378\n",
      "Epoch 5/10\n",
      "19218/19218 [==============================] - 15s 775us/step - loss: 0.4598 - acc: 0.8419 - val_loss: 0.1559 - val_acc: 0.9690\n",
      "Epoch 6/10\n",
      "19218/19218 [==============================] - 15s 762us/step - loss: 0.3399 - acc: 0.8834 - val_loss: 0.1013 - val_acc: 0.9803\n",
      "Epoch 7/10\n",
      "19218/19218 [==============================] - 15s 769us/step - loss: 0.2734 - acc: 0.9068 - val_loss: 0.0601 - val_acc: 0.9942\n",
      "Epoch 8/10\n",
      "19218/19218 [==============================] - 14s 718us/step - loss: 0.2163 - acc: 0.9269 - val_loss: 0.0444 - val_acc: 0.9971\n",
      "Epoch 9/10\n",
      "19218/19218 [==============================] - 14s 715us/step - loss: 0.1749 - acc: 0.9426 - val_loss: 0.0289 - val_acc: 0.9992\n",
      "Epoch 10/10\n",
      "19218/19218 [==============================] - 14s 714us/step - loss: 0.1421 - acc: 0.9532 - val_loss: 0.0166 - val_acc: 0.9993\n",
      "--- 142.88015413284302 seconds ---\n"
     ]
    }
   ],
   "source": [
    "start_time = time.time()\n",
    "history2 = cnn3.fit(X_train, y_train,\n",
    "          batch_size=256,\n",
    "          epochs=10,\n",
    "          verbose=1,\n",
    "          validation_data=(X_val, y_val))\n",
    "print(\"--- %s seconds ---\" % (time.time() - start_time))\n",
    "time_arr.append(time.time() - start_time)"
   ]
  },
  {
   "cell_type": "code",
   "execution_count": 11,
   "metadata": {},
   "outputs": [
    {
     "name": "stdout",
     "output_type": "stream",
     "text": [
      "Test loss: 0.15895633313054822\n",
      "Test accuracy: 0.9478527607361963\n"
     ]
    }
   ],
   "source": [
    "score2 = cnn3.evaluate(X_test, y_test, verbose=0)\n",
    "print('Test loss:', score2[0])\n",
    "print('Test accuracy:', score2[1])"
   ]
  },
  {
   "cell_type": "code",
   "execution_count": 12,
   "metadata": {},
   "outputs": [],
   "source": [
    "# 4 Layer CNN\n",
    "cnn4 = Sequential()\n",
    "cnn4.add(Conv2D(32, kernel_size=(3, 3), activation='relu', input_shape=input_shape))\n",
    "#cnn4.add(BatchNormalization())\n",
    "\n",
    "cnn4.add(Conv2D(32, kernel_size=(3, 3), activation='relu'))\n",
    "#cnn4.add(BatchNormalization())\n",
    "cnn4.add(MaxPooling2D(pool_size=(2, 2)))\n",
    "cnn4.add(Dropout(0.25))\n",
    "\n",
    "cnn4.add(Conv2D(64, kernel_size=(3, 3), activation='relu'))\n",
    "#cnn4.add(BatchNormalization())\n",
    "cnn4.add(Dropout(0.25))\n",
    "\n",
    "cnn4.add(Conv2D(128, kernel_size=(3, 3), activation='relu'))\n",
    "#cnn4.add(BatchNormalization())\n",
    "cnn4.add(MaxPooling2D(pool_size=(2, 2)))\n",
    "cnn4.add(Dropout(0.25))\n",
    "\n",
    "cnn4.add(Flatten())\n",
    "\n",
    "cnn4.add(Dense(512, activation='relu'))\n",
    "#cnn4.add(BatchNormalization())\n",
    "cnn4.add(Dropout(0.5))\n",
    "\n",
    "cnn4.add(Dense(128, activation='relu'))\n",
    "#cnn4.add(BatchNormalization())\n",
    "cnn4.add(Dropout(0.5))\n",
    "\n",
    "cnn4.add(Dense(24, activation='softmax'))\n",
    "\n",
    "cnn4.compile(loss=keras.losses.categorical_crossentropy,\n",
    "              optimizer=keras.optimizers.Adam(),\n",
    "              metrics=['accuracy'])"
   ]
  },
  {
   "cell_type": "code",
   "execution_count": null,
   "metadata": {},
   "outputs": [],
   "source": [
    "cnn4.summary()"
   ]
  },
  {
   "cell_type": "code",
   "execution_count": 13,
   "metadata": {},
   "outputs": [
    {
     "name": "stdout",
     "output_type": "stream",
     "text": [
      "Train on 19218 samples, validate on 8237 samples\n",
      "Epoch 1/10\n",
      "19218/19218 [==============================] - 38s 2ms/step - loss: 2.9363 - acc: 0.1119 - val_loss: 1.8298 - val_acc: 0.4663\n",
      "Epoch 2/10\n",
      "19218/19218 [==============================] - 38s 2ms/step - loss: 1.5980 - acc: 0.4840 - val_loss: 0.7086 - val_acc: 0.7580\n",
      "Epoch 3/10\n",
      "19218/19218 [==============================] - 42s 2ms/step - loss: 0.7975 - acc: 0.7274 - val_loss: 0.2388 - val_acc: 0.9400\n",
      "Epoch 4/10\n",
      "19218/19218 [==============================] - 43s 2ms/step - loss: 0.4529 - acc: 0.8463 - val_loss: 0.0853 - val_acc: 0.9814\n",
      "Epoch 5/10\n",
      "19218/19218 [==============================] - 43s 2ms/step - loss: 0.2681 - acc: 0.9097 - val_loss: 0.0299 - val_acc: 0.9945\n",
      "Epoch 6/10\n",
      "19218/19218 [==============================] - 36s 2ms/step - loss: 0.1838 - acc: 0.9391 - val_loss: 0.0130 - val_acc: 0.9985\n",
      "Epoch 7/10\n",
      "19218/19218 [==============================] - 43s 2ms/step - loss: 0.1304 - acc: 0.9562 - val_loss: 0.0112 - val_acc: 0.9970\n",
      "Epoch 8/10\n",
      "19218/19218 [==============================] - 38s 2ms/step - loss: 0.1203 - acc: 0.9630 - val_loss: 0.0018 - val_acc: 1.0000\n",
      "Epoch 9/10\n",
      "19218/19218 [==============================] - 38s 2ms/step - loss: 0.0711 - acc: 0.9783 - val_loss: 0.0011 - val_acc: 1.0000\n",
      "Epoch 10/10\n",
      "19218/19218 [==============================] - 38s 2ms/step - loss: 0.0619 - acc: 0.9802 - val_loss: 5.1406e-04 - val_acc: 1.0000\n",
      "--- 397.8808362483978 seconds ---\n"
     ]
    }
   ],
   "source": [
    "start_time = time.time()\n",
    "history3 = cnn4.fit(X_train, y_train,\n",
    "          batch_size=256,\n",
    "          epochs=10,\n",
    "          verbose=1,\n",
    "          validation_data=(X_val, y_val))\n",
    "\n",
    "print(\"--- %s seconds ---\" % (time.time() - start_time))\n",
    "time_arr.append(time.time() - start_time)"
   ]
  },
  {
   "cell_type": "code",
   "execution_count": 14,
   "metadata": {},
   "outputs": [
    {
     "name": "stdout",
     "output_type": "stream",
     "text": [
      "Test loss: 0.15801671126582625\n",
      "Test accuracy: 0.958728388176241\n"
     ]
    }
   ],
   "source": [
    "score3 = cnn4.evaluate(X_test, y_test, verbose=0)\n",
    "print('Test loss:', score3[0])\n",
    "print('Test accuracy:', score3[1])"
   ]
  },
  {
   "cell_type": "code",
   "execution_count": 15,
   "metadata": {
    "scrolled": false
   },
   "outputs": [],
   "source": [
    "# 5 Layer CNN working\n",
    "cnn5 = Sequential()\n",
    "cnn5.add(Conv2D(16, kernel_size=(3, 3), activation='relu', input_shape=input_shape))\n",
    "\n",
    "cnn5.add(Conv2D(32, kernel_size=(3, 3), activation='relu'))\n",
    "#cnn4.add(BatchNormalization())\n",
    "\n",
    "cnn5.add(Conv2D(32, kernel_size=(3, 3), activation='relu'))\n",
    "#cnn4.add(BatchNormalization())\n",
    "cnn5.add(MaxPooling2D(pool_size=(2, 2)))\n",
    "cnn5.add(Dropout(0.25))\n",
    "\n",
    "cnn5.add(Conv2D(64, kernel_size=(3, 3), activation='relu'))\n",
    "#cnn4.add(BatchNormalization())\n",
    "cnn5.add(Dropout(0.25))\n",
    "\n",
    "cnn5.add(Conv2D(128, kernel_size=(3, 3), activation='relu'))\n",
    "#cnn4.add(BatchNormalization())\n",
    "cnn5.add(MaxPooling2D(pool_size=(2, 2)))\n",
    "cnn5.add(Dropout(0.25))\n",
    "\n",
    "cnn5.add(Flatten())\n",
    "\n",
    "cnn5.add(Dense(512, activation='relu'))\n",
    "#cnn4.add(BatchNormalization())\n",
    "cnn5.add(Dropout(0.5))\n",
    "\n",
    "cnn5.add(Dense(128, activation='relu'))\n",
    "#cnn4.add(BatchNormalization())\n",
    "cnn5.add(Dropout(0.5))\n",
    "\n",
    "cnn5.add(Dense(24, activation='softmax'))\n",
    "\n",
    "cnn5.compile(loss=keras.losses.categorical_crossentropy,\n",
    "              optimizer=keras.optimizers.Adam(),\n",
    "              metrics=['accuracy'])"
   ]
  },
  {
   "cell_type": "code",
   "execution_count": null,
   "metadata": {},
   "outputs": [],
   "source": [
    "cnn5.summary()"
   ]
  },
  {
   "cell_type": "code",
   "execution_count": 16,
   "metadata": {},
   "outputs": [
    {
     "name": "stdout",
     "output_type": "stream",
     "text": [
      "Train on 19218 samples, validate on 8237 samples\n",
      "Epoch 1/10\n",
      "19218/19218 [==============================] - 39s 2ms/step - loss: 3.0055 - acc: 0.0922 - val_loss: 2.2333 - val_acc: 0.3459\n",
      "Epoch 2/10\n",
      "19218/19218 [==============================] - 40s 2ms/step - loss: 1.9067 - acc: 0.3865 - val_loss: 0.9208 - val_acc: 0.7474\n",
      "Epoch 3/10\n",
      "19218/19218 [==============================] - 40s 2ms/step - loss: 1.0117 - acc: 0.6528 - val_loss: 0.3818 - val_acc: 0.8985\n",
      "Epoch 4/10\n",
      "19218/19218 [==============================] - 40s 2ms/step - loss: 0.5887 - acc: 0.7981 - val_loss: 0.1920 - val_acc: 0.9444\n",
      "Epoch 5/10\n",
      "19218/19218 [==============================] - 40s 2ms/step - loss: 0.3979 - acc: 0.8620 - val_loss: 0.0819 - val_acc: 0.9845\n",
      "Epoch 6/10\n",
      "19218/19218 [==============================] - 39s 2ms/step - loss: 0.2771 - acc: 0.9059 - val_loss: 0.0402 - val_acc: 0.9933\n",
      "Epoch 7/10\n",
      "19218/19218 [==============================] - 39s 2ms/step - loss: 0.1928 - acc: 0.9359 - val_loss: 0.0231 - val_acc: 0.9953\n",
      "Epoch 8/10\n",
      "19218/19218 [==============================] - 39s 2ms/step - loss: 0.1557 - acc: 0.9490 - val_loss: 0.0081 - val_acc: 0.9995\n",
      "Epoch 9/10\n",
      "19218/19218 [==============================] - 40s 2ms/step - loss: 0.1087 - acc: 0.9644 - val_loss: 0.0042 - val_acc: 1.0000\n",
      "Epoch 10/10\n",
      "19218/19218 [==============================] - 40s 2ms/step - loss: 0.0746 - acc: 0.9755 - val_loss: 0.0014 - val_acc: 0.9999\n",
      "--- 397.1230969429016 seconds ---\n"
     ]
    }
   ],
   "source": [
    "start_time = time.time()\n",
    "history4 = cnn5.fit(X_train, y_train,\n",
    "          batch_size=256,\n",
    "          epochs=10,\n",
    "          verbose=1,\n",
    "          validation_data=(X_val, y_val))\n",
    "print(\"--- %s seconds ---\" % (time.time() - start_time))\n",
    "time_arr.append(time.time() - start_time)"
   ]
  },
  {
   "cell_type": "code",
   "execution_count": 17,
   "metadata": {},
   "outputs": [
    {
     "name": "stdout",
     "output_type": "stream",
     "text": [
      "Test loss: 0.17255138011576013\n",
      "Test accuracy: 0.9624930284439487\n"
     ]
    }
   ],
   "source": [
    "score4 = cnn5.evaluate(X_test, y_test, verbose=0)\n",
    "print('Test loss:', score4[0])\n",
    "print('Test accuracy:', score4[1])"
   ]
  },
  {
   "cell_type": "code",
   "execution_count": 18,
   "metadata": {},
   "outputs": [],
   "source": [
    "# 6 Layer CNN\n",
    "cnn6 = Sequential()\n",
    "cnn6.add(Conv2D(16, kernel_size=(3, 3), activation='relu', input_shape=input_shape))\n",
    "#cnn5.add(MaxPooling2D(pool_size=(2, 2)))\n",
    "#cnn5.add(Dropout(0.25))\n",
    "\n",
    "cnn6.add(Conv2D(16, kernel_size=(3, 3), activation='relu'))\n",
    "\n",
    "cnn6.add(Conv2D(32, kernel_size=(3, 3), activation='relu'))\n",
    "#cnn4.add(BatchNormalization())\n",
    "#cnn5.add(MaxPooling2D(pool_size=(2, 2)))\n",
    "#cnn5.add(Dropout(0.25))\n",
    "\n",
    "cnn6.add(Conv2D(32, kernel_size=(3, 3), activation='relu'))\n",
    "#cnn4.add(BatchNormalization())\n",
    "cnn6.add(MaxPooling2D(pool_size=(2, 2)))\n",
    "cnn6.add(Dropout(0.25))\n",
    "\n",
    "cnn6.add(Conv2D(64, kernel_size=(3, 3), activation='relu'))\n",
    "#cnn4.add(BatchNormalization())\n",
    "cnn6.add(Dropout(0.25))\n",
    "\n",
    "cnn6.add(Conv2D(128, kernel_size=(3, 3), activation='relu'))\n",
    "#cnn4.add(BatchNormalization())\n",
    "cnn6.add(MaxPooling2D(pool_size=(2, 2)))\n",
    "cnn6.add(Dropout(0.25))\n",
    "\n",
    "cnn6.add(Flatten())\n",
    "\n",
    "cnn6.add(Dense(512, activation='relu'))\n",
    "#cnn4.add(BatchNormalization())\n",
    "cnn6.add(Dropout(0.5))\n",
    "\n",
    "cnn6.add(Dense(128, activation='relu'))\n",
    "#cnn4.add(BatchNormalization())\n",
    "cnn6.add(Dropout(0.5))\n",
    "\n",
    "cnn6.add(Dense(24, activation='softmax'))\n",
    "\n",
    "cnn6.compile(loss=keras.losses.categorical_crossentropy,\n",
    "              optimizer=keras.optimizers.Adam(),\n",
    "              metrics=['accuracy'])"
   ]
  },
  {
   "cell_type": "code",
   "execution_count": null,
   "metadata": {},
   "outputs": [],
   "source": [
    "cnn6.summary()"
   ]
  },
  {
   "cell_type": "code",
   "execution_count": 19,
   "metadata": {},
   "outputs": [
    {
     "name": "stdout",
     "output_type": "stream",
     "text": [
      "Train on 19218 samples, validate on 8237 samples\n",
      "Epoch 1/10\n",
      "19218/19218 [==============================] - 44s 2ms/step - loss: 2.9896 - acc: 0.0964 - val_loss: 2.2048 - val_acc: 0.3472\n",
      "Epoch 2/10\n",
      "19218/19218 [==============================] - 40s 2ms/step - loss: 1.8506 - acc: 0.3974 - val_loss: 1.0411 - val_acc: 0.6731\n",
      "Epoch 3/10\n",
      "19218/19218 [==============================] - 39s 2ms/step - loss: 1.0041 - acc: 0.6602 - val_loss: 0.3347 - val_acc: 0.8947\n",
      "Epoch 4/10\n",
      "19218/19218 [==============================] - 37s 2ms/step - loss: 0.5982 - acc: 0.7897 - val_loss: 0.1784 - val_acc: 0.9448\n",
      "Epoch 5/10\n",
      "19218/19218 [==============================] - 37s 2ms/step - loss: 0.4054 - acc: 0.8601 - val_loss: 0.0563 - val_acc: 0.9926\n",
      "Epoch 6/10\n",
      "19218/19218 [==============================] - 37s 2ms/step - loss: 0.2617 - acc: 0.9099 - val_loss: 0.0338 - val_acc: 0.9927\n",
      "Epoch 7/10\n",
      "19218/19218 [==============================] - 37s 2ms/step - loss: 0.1820 - acc: 0.9394 - val_loss: 0.0092 - val_acc: 0.9993\n",
      "Epoch 8/10\n",
      "19218/19218 [==============================] - 37s 2ms/step - loss: 0.1356 - acc: 0.9570 - val_loss: 0.0121 - val_acc: 0.9979\n",
      "Epoch 9/10\n",
      "19218/19218 [==============================] - 37s 2ms/step - loss: 0.1042 - acc: 0.9652 - val_loss: 0.0019 - val_acc: 0.9999\n",
      "Epoch 10/10\n",
      "19218/19218 [==============================] - 37s 2ms/step - loss: 0.0817 - acc: 0.9743 - val_loss: 0.0014 - val_acc: 1.0000\n",
      "--- 382.82909655570984 seconds ---\n"
     ]
    }
   ],
   "source": [
    "start_time = time.time()\n",
    "history5 = cnn6.fit(X_train, y_train,\n",
    "          batch_size=256,\n",
    "          epochs=10,\n",
    "          verbose=1,\n",
    "          validation_data=(X_val, y_val))\n",
    "print(\"--- %s seconds ---\" % (time.time() - start_time))\n",
    "time_arr.append(time.time() - start_time)"
   ]
  },
  {
   "cell_type": "code",
   "execution_count": 20,
   "metadata": {},
   "outputs": [
    {
     "name": "stdout",
     "output_type": "stream",
     "text": [
      "Test loss: 0.1858474059088183\n",
      "Test accuracy: 0.9617958728388176\n"
     ]
    }
   ],
   "source": [
    "score5 = cnn6.evaluate(X_test, y_test, verbose=0)\n",
    "print('Test loss:', score5[0])\n",
    "print('Test accuracy:', score5[1])"
   ]
  },
  {
   "cell_type": "code",
   "execution_count": null,
   "metadata": {},
   "outputs": [],
   "source": []
  },
  {
   "cell_type": "code",
   "execution_count": null,
   "metadata": {},
   "outputs": [],
   "source": [
    "import matplotlib.pyplot as plt"
   ]
  },
  {
   "cell_type": "code",
   "execution_count": null,
   "metadata": {},
   "outputs": [],
   "source": [
    "plt.plot(history4.history['acc'])\n",
    "plt.plot(history4.history['val_acc'])\n",
    "plt.title(\"Accuracy\")\n",
    "plt.xlabel('epoch')\n",
    "plt.ylabel('accuracy')\n",
    "plt.legend(['train','test'])\n",
    "plt.show()"
   ]
  },
  {
   "cell_type": "code",
   "execution_count": 21,
   "metadata": {},
   "outputs": [],
   "source": [
    "array_score = []\n",
    "array_loss = []\n",
    "array_time = []"
   ]
  },
  {
   "cell_type": "code",
   "execution_count": 22,
   "metadata": {},
   "outputs": [],
   "source": [
    "array_score.append(score1[1])\n",
    "array_score.append(score2[1])\n",
    "array_score.append(score3[1])\n",
    "array_score.append(score4[1])\n",
    "array_score.append(score5[1])"
   ]
  },
  {
   "cell_type": "code",
   "execution_count": 23,
   "metadata": {},
   "outputs": [],
   "source": [
    "array_loss.append(score1[0])\n",
    "array_loss.append(score2[0])\n",
    "array_loss.append(score3[0])\n",
    "array_loss.append(score4[0])\n",
    "array_loss.append(score5[0])"
   ]
  },
  {
   "cell_type": "code",
   "execution_count": 24,
   "metadata": {},
   "outputs": [],
   "source": [
    "array_time.append(time_arr[0])\n",
    "array_time.append(time_arr[1])\n",
    "array_time.append(time_arr[2])\n",
    "array_time.append(time_arr[3])\n",
    "array_time.append(time_arr[4])"
   ]
  },
  {
   "cell_type": "code",
   "execution_count": 40,
   "metadata": {},
   "outputs": [],
   "source": [
    "inc_arr = []"
   ]
  },
  {
   "cell_type": "code",
   "execution_count": 41,
   "metadata": {},
   "outputs": [],
   "source": [
    "inc_arr.append(1)\n",
    "inc_arr.append(2)\n",
    "inc_arr.append(3)\n",
    "inc_arr.append(4)"
   ]
  },
  {
   "cell_type": "code",
   "execution_count": 42,
   "metadata": {},
   "outputs": [
    {
     "data": {
      "image/png": "[encoded data removed]",
      "text/plain": [
       "<Figure size 432x288 with 1 Axes>"
      ]
     },
     "metadata": {
      "needs_background": "light"
     },
     "output_type": "display_data"
    }
   ],
   "source": [
    "plt.plot(array_score)\n",
    "#plt.plot(array_loss)\n",
    "plt.title(\"Accuracy Comparison\")\n",
    "plt.xticks(inc_arr)\n",
    "plt.xlabel('scenarios')\n",
    "plt.ylabel('accuracy')\n",
    "plt.legend(['accuracy'])#,'loss'])\n",
    "plt.show()"
   ]
  },
  {
   "cell_type": "code",
   "execution_count": 43,
   "metadata": {},
   "outputs": [
    {
     "data": {
      "image/png": "[encoded data removed]",
      "text/plain": [
       "<Figure size 432x288 with 1 Axes>"
      ]
     },
     "metadata": {
      "needs_background": "light"
     },
     "output_type": "display_data"
    }
   ],
   "source": [
    "#plt.plot(array_score)dasdasd\n",
    "plt.plot(array_loss)\n",
    "plt.title(\"Loss Comparison\")\n",
    "plt.xticks(inc_arr)\n",
    "plt.xlabel('scenarios')\n",
    "plt.ylabel('accuracy')\n",
    "plt.legend(['loss'])#,'loss'])\n",
    "plt.show()"
   ]
  },
  {
   "cell_type": "code",
   "execution_count": 44,
   "metadata": {},
   "outputs": [
    {
     "data": {
      "image/png": "[encoded data removed]",
      "text/plain": [
       "<Figure size 432x288 with 1 Axes>"
      ]
     },
     "metadata": {
      "needs_background": "light"
     },
     "output_type": "display_data"
    }
   ],
   "source": [
    "#plt.plot(array_score)\n",
    "plt.plot(array_time)\n",
    "plt.title(\"Time Comparison\")\n",
    "plt.xticks(inc_arr)\n",
    "plt.xlabel('scenarios')\n",
    "plt.ylabel('seconds')\n",
    "plt.legend(['time'])#,'loss'])\n",
    "plt.show()"
   ]
  },
  {
   "cell_type": "code",
   "execution_count": 45,
   "metadata": {},
   "outputs": [
    {
     "data": {
      "text/plain": [
       "[85.80484867095947,\n",
       " 142.88015413284302,\n",
       " 397.8808362483978,\n",
       " 397.1230969429016,\n",
       " 382.82909655570984]"
      ]
     },
     "execution_count": 45,
     "metadata": {},
     "output_type": "execute_result"
    }
   ],
   "source": [
    "time_arr"
   ]
  },
  {
   "cell_type": "code",
   "execution_count": null,
   "metadata": {},
   "outputs": [],
   "source": []
  },
  {
   "cell_type": "code",
   "execution_count": null,
   "metadata": {},
   "outputs": [],
   "source": []
  },
  {
   "cell_type": "code",
   "execution_count": null,
   "metadata": {},
   "outputs": [],
   "source": [
    "#Data Augmentation\n",
    "\n",
    "from keras.preprocessing.image import ImageDataGenerator\n",
    "gen = ImageDataGenerator(rotation_range=8, width_shift_range=0.08, shear_range=0.3,\n",
    "                               height_shift_range=0.08, zoom_range=0.08)\n",
    "batches = gen.flow(X_train, y_train, batch_size=256)\n",
    "val_batches = gen.flow(X_val, y_val, batch_size=256)"
   ]
  },
  {
   "cell_type": "code",
   "execution_count": null,
   "metadata": {},
   "outputs": [],
   "source": [
    "history1 = cnn1.fit_generator(batches, steps_per_epoch=48000//256, epochs=50,\n",
    "                    validation_data=val_batches, validation_steps=12000//256, use_multiprocessing=True)"
   ]
  },
  {
   "cell_type": "code",
   "execution_count": null,
   "metadata": {},
   "outputs": [],
   "source": [
    "12000//256"
   ]
  },
  {
   "cell_type": "code",
   "execution_count": null,
   "metadata": {},
   "outputs": [],
   "source": []
  }
 ],
 "metadata": {
  "kernelspec": {
   "display_name": "Python 3",
   "language": "python",
   "name": "python3"
  },
  "language_info": {
   "codemirror_mode": {
    "name": "ipython",
    "version": 3
   },
   "file_extension": ".py",
   "mimetype": "text/x-python",
   "name": "python",
   "nbconvert_exporter": "python",
   "pygments_lexer": "ipython3",
   "version": "3.7.1"
  }
 },
 "nbformat": 4,
 "nbformat_minor": 2
}
