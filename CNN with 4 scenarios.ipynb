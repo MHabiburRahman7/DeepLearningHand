{
 "cells": [
  {
   "cell_type": "code",
   "execution_count": null,
   "metadata": {},
   "outputs": [],
   "source": [
    "#Main reference : https://github.com/khanhnamle1994/fashion-mnist/blob/master/CNN-1Conv.ipynb"
   ]
  },
  {
   "cell_type": "code",
   "execution_count": 1,
   "metadata": {},
   "outputs": [],
   "source": [
    "import numpy as np\n",
    "import pandas as pd\n",
    "import matplotlib.pyplot as plt\n",
    "import time"
   ]
  },
  {
   "cell_type": "code",
   "execution_count": 2,
   "metadata": {},
   "outputs": [],
   "source": [
    "time_arr = []"
   ]
  },
  {
   "cell_type": "code",
   "execution_count": 3,
   "metadata": {},
   "outputs": [
    {
     "name": "stderr",
     "output_type": "stream",
     "text": [
      "Using TensorFlow backend.\n"
     ]
    }
   ],
   "source": [
    "# Import libraries\n",
    "from keras.utils import to_categorical\n",
    "from sklearn.model_selection import train_test_split\n",
    "#binarize label because our label is nominal\n",
    "from sklearn.preprocessing import LabelBinarizer\n",
    "label_binrizer = LabelBinarizer()\n",
    "\n",
    "# Load training and test data into dataframes\n",
    "train_set = pd.read_csv('Dataset/sign_mnist_train.csv')\n",
    "test_set = pd.read_csv('Dataset/sign_mnist_test.csv')\n",
    "\n",
    "# X forms the training images, and y forms the training labels\n",
    "X = np.array(train_set.iloc[:, 1:])\n",
    "#y = to_categorical(np.array(data_train.iloc[:, 0]))\n",
    "y = label_binrizer.fit_transform(np.array(train_set.iloc[:, 0]))\n",
    "\n",
    "# Here I split original training data to sub-training (80%) and validation data (20%)\n",
    "X_train, X_val, y_train, y_val = train_test_split(X, y, test_size=0.3, random_state=13)\n",
    "\n",
    "# X_test forms the test images, and y_test forms the test labels\n",
    "X_test = np.array(test_set.iloc[:, 1:])\n",
    "#y_test = to_categorical(np.array(data_train.iloc[:, 0]))\n",
    "y_test = label_binrizer.fit_transform(np.array(test_set.iloc[:, 0]))"
   ]
  },
  {
   "cell_type": "code",
   "execution_count": null,
   "metadata": {},
   "outputs": [],
   "source": []
  },
  {
   "cell_type": "code",
   "execution_count": 4,
   "metadata": {},
   "outputs": [
    {
     "data": {
      "text/plain": [
       "array([0, 1])"
      ]
     },
     "execution_count": 4,
     "metadata": {},
     "output_type": "execute_result"
    }
   ],
   "source": [
    "#make label as unique value\n",
    "unique_train_val = np.array(y)\n",
    "np.unique(unique_train_val)"
   ]
  },
  {
   "cell_type": "code",
   "execution_count": 5,
   "metadata": {},
   "outputs": [
    {
     "data": {
      "text/plain": [
       "<matplotlib.image.AxesImage at 0x1f388bdc128>"
      ]
     },
     "execution_count": 5,
     "metadata": {},
     "output_type": "execute_result"
    },
    {
     "data": {
      "image/png": "[encoded data removed]",
      "text/plain": [
       "<Figure size 432x288 with 1 Axes>"
      ]
     },
     "metadata": {
      "needs_background": "light"
     },
     "output_type": "display_data"
    }
   ],
   "source": [
    "#let see image after its normalized\n",
    "plt.imshow(X[0].reshape(28,28))"
   ]
  },
  {
   "cell_type": "code",
   "execution_count": 6,
   "metadata": {},
   "outputs": [],
   "source": [
    "# Each image's dimension is 28 x 28\n",
    "img_rows, img_cols = 28, 28\n",
    "input_shape = (img_rows, img_cols, 1)\n",
    "\n",
    "# Prepare the training images\n",
    "X_train = X_train.reshape(X_train.shape[0], img_rows, img_cols, 1)\n",
    "X_train = X_train.astype('float32')\n",
    "X_train /= 255\n",
    "\n",
    "# Prepare the test images\n",
    "X_test = X_test.reshape(X_test.shape[0], img_rows, img_cols, 1)\n",
    "X_test = X_test.astype('float32')\n",
    "X_test /= 255\n",
    "\n",
    "# Prepare the validation images\n",
    "X_val = X_val.reshape(X_val.shape[0], img_rows, img_cols, 1)\n",
    "X_val = X_val.astype('float32')\n",
    "X_val /= 255"
   ]
  },
  {
   "cell_type": "code",
   "execution_count": 7,
   "metadata": {},
   "outputs": [],
   "source": [
    "# Import Keras libraries\n",
    "import keras\n",
    "from keras.models import Sequential\n",
    "from keras.layers import Dense, Dropout, Flatten\n",
    "from keras.layers import Conv2D, MaxPooling2D, BatchNormalization"
   ]
  },
  {
   "cell_type": "code",
   "execution_count": 8,
   "metadata": {},
   "outputs": [
    {
     "name": "stdout",
     "output_type": "stream",
     "text": [
      "WARNING:tensorflow:From C:\\ProgramData\\Anaconda3\\lib\\site-packages\\tensorflow\\python\\framework\\op_def_library.py:263: colocate_with (from tensorflow.python.framework.ops) is deprecated and will be removed in a future version.\n",
      "Instructions for updating:\n",
      "Colocations handled automatically by placer.\n",
      "WARNING:tensorflow:From C:\\ProgramData\\Anaconda3\\lib\\site-packages\\keras\\backend\\tensorflow_backend.py:3445: calling dropout (from tensorflow.python.ops.nn_ops) with keep_prob is deprecated and will be removed in a future version.\n",
      "Instructions for updating:\n",
      "Please use `rate` instead of `keep_prob`. Rate should be set to `rate = 1 - keep_prob`.\n"
     ]
    }
   ],
   "source": [
    "# Single Layer CNN\n",
    "cnn1 = Sequential()\n",
    "cnn1.add(Conv2D(32, kernel_size=(3, 3), activation='relu', input_shape=input_shape))\n",
    "cnn1.add(MaxPooling2D(pool_size=(2, 2)))\n",
    "cnn1.add(Dropout(0.2))\n",
    "\n",
    "cnn1.add(Flatten())\n",
    "\n",
    "cnn1.add(Dense(128, activation='relu'))\n",
    "cnn1.add(Dense(24, activation='softmax'))\n",
    "\n",
    "cnn1.compile(loss=keras.losses.categorical_crossentropy,\n",
    "              optimizer=keras.optimizers.Adam(),\n",
    "              metrics=['accuracy'])"
   ]
  },
  {
   "cell_type": "code",
   "execution_count": 9,
   "metadata": {},
   "outputs": [
    {
     "name": "stdout",
     "output_type": "stream",
     "text": [
      "_________________________________________________________________\n",
      "Layer (type)                 Output Shape              Param #   \n",
      "=================================================================\n",
      "conv2d_1 (Conv2D)            (None, 26, 26, 32)        320       \n",
      "_________________________________________________________________\n",
      "max_pooling2d_1 (MaxPooling2 (None, 13, 13, 32)        0         \n",
      "_________________________________________________________________\n",
      "dropout_1 (Dropout)          (None, 13, 13, 32)        0         \n",
      "_________________________________________________________________\n",
      "flatten_1 (Flatten)          (None, 5408)              0         \n",
      "_________________________________________________________________\n",
      "dense_1 (Dense)              (None, 128)               692352    \n",
      "_________________________________________________________________\n",
      "dense_2 (Dense)              (None, 24)                3096      \n",
      "=================================================================\n",
      "Total params: 695,768\n",
      "Trainable params: 695,768\n",
      "Non-trainable params: 0\n",
      "_________________________________________________________________\n"
     ]
    }
   ],
   "source": [
    "cnn1.summary()"
   ]
  },
  {
   "cell_type": "code",
   "execution_count": 10,
   "metadata": {},
   "outputs": [
    {
     "name": "stdout",
     "output_type": "stream",
     "text": [
      "WARNING:tensorflow:From C:\\ProgramData\\Anaconda3\\lib\\site-packages\\tensorflow\\python\\ops\\math_ops.py:3066: to_int32 (from tensorflow.python.ops.math_ops) is deprecated and will be removed in a future version.\n",
      "Instructions for updating:\n",
      "Use tf.cast instead.\n",
      "Train on 19218 samples, validate on 8237 samples\n",
      "Epoch 1/10\n",
      "19218/19218 [==============================] - 9s 455us/step - loss: 2.4152 - acc: 0.3549 - val_loss: 1.5957 - val_acc: 0.5475\n",
      "Epoch 2/10\n",
      "19218/19218 [==============================] - 9s 460us/step - loss: 1.1631 - acc: 0.6896 - val_loss: 0.8462 - val_acc: 0.7936\n",
      "Epoch 3/10\n",
      "19218/19218 [==============================] - 9s 458us/step - loss: 0.6957 - acc: 0.8262 - val_loss: 0.5586 - val_acc: 0.8549\n",
      "Epoch 4/10\n",
      "19218/19218 [==============================] - 9s 444us/step - loss: 0.4606 - acc: 0.8943 - val_loss: 0.3856 - val_acc: 0.9133\n",
      "Epoch 5/10\n",
      "19218/19218 [==============================] - 8s 427us/step - loss: 0.3172 - acc: 0.9329 - val_loss: 0.2555 - val_acc: 0.9494\n",
      "Epoch 6/10\n",
      "19218/19218 [==============================] - 8s 438us/step - loss: 0.2258 - acc: 0.9596 - val_loss: 0.1672 - val_acc: 0.9790\n",
      "Epoch 7/10\n",
      "19218/19218 [==============================] - 8s 409us/step - loss: 0.1570 - acc: 0.9793 - val_loss: 0.1187 - val_acc: 0.9905\n",
      "Epoch 8/10\n",
      "19218/19218 [==============================] - 8s 409us/step - loss: 0.1170 - acc: 0.9868 - val_loss: 0.0864 - val_acc: 0.9965\n",
      "Epoch 9/10\n",
      "19218/19218 [==============================] - 8s 424us/step - loss: 0.0870 - acc: 0.9934 - val_loss: 0.0610 - val_acc: 0.9994\n",
      "Epoch 10/10\n",
      "19218/19218 [==============================] - 8s 411us/step - loss: 0.0638 - acc: 0.9969 - val_loss: 0.0454 - val_acc: 0.9999\n",
      "--- 83.61331963539124 seconds ---\n"
     ]
    }
   ],
   "source": [
    "#Build model and calculate time\n",
    "start_time = time.time()\n",
    "history1 = cnn1.fit(X_train, y_train,\n",
    "          batch_size=256,\n",
    "          epochs=10,\n",
    "          verbose=1,\n",
    "          validation_data=(X_val, y_val))\n",
    "\n",
    "print(\"--- %s seconds ---\" % (time.time() - start_time))\n",
    "time_arr.append(time.time() - start_time)"
   ]
  },
  {
   "cell_type": "code",
   "execution_count": 11,
   "metadata": {
    "scrolled": true
   },
   "outputs": [
    {
     "name": "stdout",
     "output_type": "stream",
     "text": [
      "Test loss: 0.5998186685489797\n",
      "Test accuracy: 0.8248745119910764\n"
     ]
    }
   ],
   "source": [
    "#Test the model\n",
    "score1 = cnn1.evaluate(X_test, y_test, verbose=0)\n",
    "print('Test loss:', score1[0])\n",
    "print('Test accuracy:', score1[1])"
   ]
  },
  {
   "cell_type": "code",
   "execution_count": 12,
   "metadata": {},
   "outputs": [],
   "source": [
    "# 3 Layer CNN\n",
    "cnn3 = Sequential()\n",
    "cnn3.add(Conv2D(32, kernel_size=(3, 3), activation='relu', input_shape=input_shape))\n",
    "cnn3.add(MaxPooling2D((2, 2)))\n",
    "cnn3.add(Dropout(0.25))\n",
    "\n",
    "cnn3.add(Conv2D(64, kernel_size=(3, 3), activation='relu'))\n",
    "cnn3.add(MaxPooling2D(pool_size=(2, 2)))\n",
    "cnn3.add(Dropout(0.25))\n",
    "\n",
    "cnn3.add(Conv2D(128, kernel_size=(3, 3), activation='relu'))\n",
    "cnn3.add(Dropout(0.4))\n",
    "\n",
    "cnn3.add(Flatten())\n",
    "\n",
    "cnn3.add(Dense(128, activation='relu'))\n",
    "cnn3.add(Dropout(0.3))\n",
    "cnn3.add(Dense(24, activation='softmax'))\n",
    "\n",
    "cnn3.compile(loss=keras.losses.categorical_crossentropy,\n",
    "              optimizer=keras.optimizers.Adam(),\n",
    "              metrics=['accuracy'])"
   ]
  },
  {
   "cell_type": "code",
   "execution_count": 13,
   "metadata": {},
   "outputs": [
    {
     "name": "stdout",
     "output_type": "stream",
     "text": [
      "_________________________________________________________________\n",
      "Layer (type)                 Output Shape              Param #   \n",
      "=================================================================\n",
      "conv2d_2 (Conv2D)            (None, 26, 26, 32)        320       \n",
      "_________________________________________________________________\n",
      "max_pooling2d_2 (MaxPooling2 (None, 13, 13, 32)        0         \n",
      "_________________________________________________________________\n",
      "dropout_2 (Dropout)          (None, 13, 13, 32)        0         \n",
      "_________________________________________________________________\n",
      "conv2d_3 (Conv2D)            (None, 11, 11, 64)        18496     \n",
      "_________________________________________________________________\n",
      "max_pooling2d_3 (MaxPooling2 (None, 5, 5, 64)          0         \n",
      "_________________________________________________________________\n",
      "dropout_3 (Dropout)          (None, 5, 5, 64)          0         \n",
      "_________________________________________________________________\n",
      "conv2d_4 (Conv2D)            (None, 3, 3, 128)         73856     \n",
      "_________________________________________________________________\n",
      "dropout_4 (Dropout)          (None, 3, 3, 128)         0         \n",
      "_________________________________________________________________\n",
      "flatten_2 (Flatten)          (None, 1152)              0         \n",
      "_________________________________________________________________\n",
      "dense_3 (Dense)              (None, 128)               147584    \n",
      "_________________________________________________________________\n",
      "dropout_5 (Dropout)          (None, 128)               0         \n",
      "_________________________________________________________________\n",
      "dense_4 (Dense)              (None, 24)                3096      \n",
      "=================================================================\n",
      "Total params: 243,352\n",
      "Trainable params: 243,352\n",
      "Non-trainable params: 0\n",
      "_________________________________________________________________\n"
     ]
    }
   ],
   "source": [
    "cnn3.summary()"
   ]
  },
  {
   "cell_type": "code",
   "execution_count": 14,
   "metadata": {},
   "outputs": [
    {
     "name": "stdout",
     "output_type": "stream",
     "text": [
      "Train on 19218 samples, validate on 8237 samples\n",
      "Epoch 1/10\n",
      "19218/19218 [==============================] - 14s 719us/step - loss: 2.9558 - acc: 0.1144 - val_loss: 2.1093 - val_acc: 0.3862\n",
      "Epoch 2/10\n",
      "19218/19218 [==============================] - 14s 751us/step - loss: 1.7338 - acc: 0.4429 - val_loss: 0.9475 - val_acc: 0.7431\n",
      "Epoch 3/10\n",
      "19218/19218 [==============================] - 14s 719us/step - loss: 0.9815 - acc: 0.6724 - val_loss: 0.4896 - val_acc: 0.8719\n",
      "Epoch 4/10\n",
      "19218/19218 [==============================] - 14s 710us/step - loss: 0.6448 - acc: 0.7833 - val_loss: 0.2662 - val_acc: 0.9307\n",
      "Epoch 5/10\n",
      "19218/19218 [==============================] - 15s 769us/step - loss: 0.4603 - acc: 0.8403 - val_loss: 0.1644 - val_acc: 0.9686\n",
      "Epoch 6/10\n",
      "19218/19218 [==============================] - 14s 718us/step - loss: 0.3502 - acc: 0.8793 - val_loss: 0.1099 - val_acc: 0.9846\n",
      "Epoch 7/10\n",
      "19218/19218 [==============================] - 15s 768us/step - loss: 0.2663 - acc: 0.9105 - val_loss: 0.0619 - val_acc: 0.9953\n",
      "Epoch 8/10\n",
      "19218/19218 [==============================] - 15s 771us/step - loss: 0.2133 - acc: 0.9285 - val_loss: 0.0354 - val_acc: 0.9983\n",
      "Epoch 9/10\n",
      "19218/19218 [==============================] - 14s 742us/step - loss: 0.1717 - acc: 0.9433 - val_loss: 0.0265 - val_acc: 0.9979\n",
      "Epoch 10/10\n",
      "19218/19218 [==============================] - 14s 734us/step - loss: 0.1415 - acc: 0.9546 - val_loss: 0.0158 - val_acc: 0.9994\n",
      "--- 142.7202799320221 seconds ---\n"
     ]
    }
   ],
   "source": [
    "#Build model and calculate time\n",
    "start_time = time.time()\n",
    "history2 = cnn3.fit(X_train, y_train,\n",
    "          batch_size=256,\n",
    "          epochs=10,\n",
    "          verbose=1,\n",
    "          validation_data=(X_val, y_val))\n",
    "print(\"--- %s seconds ---\" % (time.time() - start_time))\n",
    "time_arr.append(time.time() - start_time)"
   ]
  },
  {
   "cell_type": "code",
   "execution_count": 15,
   "metadata": {},
   "outputs": [
    {
     "name": "stdout",
     "output_type": "stream",
     "text": [
      "Test loss: 0.17288390898217934\n",
      "Test accuracy: 0.9493865030674846\n"
     ]
    }
   ],
   "source": [
    "#Test the model\n",
    "score2 = cnn3.evaluate(X_test, y_test, verbose=0)\n",
    "print('Test loss:', score2[0])\n",
    "print('Test accuracy:', score2[1])"
   ]
  },
  {
   "cell_type": "code",
   "execution_count": 16,
   "metadata": {},
   "outputs": [],
   "source": [
    "# 4 Layer CNN\n",
    "cnn4 = Sequential()\n",
    "cnn4.add(Conv2D(32, kernel_size=(3, 3), activation='relu', input_shape=input_shape))\n",
    "\n",
    "cnn4.add(Conv2D(32, kernel_size=(3, 3), activation='relu'))\n",
    "cnn4.add(MaxPooling2D(pool_size=(2, 2)))\n",
    "cnn4.add(Dropout(0.25))\n",
    "\n",
    "cnn4.add(Conv2D(64, kernel_size=(3, 3), activation='relu'))\n",
    "cnn4.add(Dropout(0.25))\n",
    "\n",
    "cnn4.add(Conv2D(128, kernel_size=(3, 3), activation='relu'))\n",
    "cnn4.add(MaxPooling2D(pool_size=(2, 2)))\n",
    "cnn4.add(Dropout(0.25))\n",
    "\n",
    "cnn4.add(Flatten())\n",
    "\n",
    "cnn4.add(Dense(512, activation='relu'))\n",
    "cnn4.add(Dropout(0.5))\n",
    "\n",
    "cnn4.add(Dense(128, activation='relu'))\n",
    "cnn4.add(Dropout(0.5))\n",
    "\n",
    "cnn4.add(Dense(24, activation='softmax'))\n",
    "\n",
    "cnn4.compile(loss=keras.losses.categorical_crossentropy,\n",
    "              optimizer=keras.optimizers.Adam(),\n",
    "              metrics=['accuracy'])"
   ]
  },
  {
   "cell_type": "code",
   "execution_count": 17,
   "metadata": {},
   "outputs": [
    {
     "name": "stdout",
     "output_type": "stream",
     "text": [
      "_________________________________________________________________\n",
      "Layer (type)                 Output Shape              Param #   \n",
      "=================================================================\n",
      "conv2d_5 (Conv2D)            (None, 26, 26, 32)        320       \n",
      "_________________________________________________________________\n",
      "conv2d_6 (Conv2D)            (None, 24, 24, 32)        9248      \n",
      "_________________________________________________________________\n",
      "max_pooling2d_4 (MaxPooling2 (None, 12, 12, 32)        0         \n",
      "_________________________________________________________________\n",
      "dropout_6 (Dropout)          (None, 12, 12, 32)        0         \n",
      "_________________________________________________________________\n",
      "conv2d_7 (Conv2D)            (None, 10, 10, 64)        18496     \n",
      "_________________________________________________________________\n",
      "dropout_7 (Dropout)          (None, 10, 10, 64)        0         \n",
      "_________________________________________________________________\n",
      "conv2d_8 (Conv2D)            (None, 8, 8, 128)         73856     \n",
      "_________________________________________________________________\n",
      "max_pooling2d_5 (MaxPooling2 (None, 4, 4, 128)         0         \n",
      "_________________________________________________________________\n",
      "dropout_8 (Dropout)          (None, 4, 4, 128)         0         \n",
      "_________________________________________________________________\n",
      "flatten_3 (Flatten)          (None, 2048)              0         \n",
      "_________________________________________________________________\n",
      "dense_5 (Dense)              (None, 512)               1049088   \n",
      "_________________________________________________________________\n",
      "dropout_9 (Dropout)          (None, 512)               0         \n",
      "_________________________________________________________________\n",
      "dense_6 (Dense)              (None, 128)               65664     \n",
      "_________________________________________________________________\n",
      "dropout_10 (Dropout)         (None, 128)               0         \n",
      "_________________________________________________________________\n",
      "dense_7 (Dense)              (None, 24)                3096      \n",
      "=================================================================\n",
      "Total params: 1,219,768\n",
      "Trainable params: 1,219,768\n",
      "Non-trainable params: 0\n",
      "_________________________________________________________________\n"
     ]
    }
   ],
   "source": [
    "cnn4.summary()"
   ]
  },
  {
   "cell_type": "code",
   "execution_count": 18,
   "metadata": {},
   "outputs": [
    {
     "name": "stdout",
     "output_type": "stream",
     "text": [
      "Train on 19218 samples, validate on 8237 samples\n",
      "Epoch 1/10\n",
      "19218/19218 [==============================] - 40s 2ms/step - loss: 3.1145 - acc: 0.0670 - val_loss: 2.5848 - val_acc: 0.2310\n",
      "Epoch 2/10\n",
      "19218/19218 [==============================] - 39s 2ms/step - loss: 1.9243 - acc: 0.3839 - val_loss: 0.7653 - val_acc: 0.7823\n",
      "Epoch 3/10\n",
      "19218/19218 [==============================] - 38s 2ms/step - loss: 0.8868 - acc: 0.7033 - val_loss: 0.2607 - val_acc: 0.9321\n",
      "Epoch 4/10\n",
      "19218/19218 [==============================] - 38s 2ms/step - loss: 0.4742 - acc: 0.8370 - val_loss: 0.1133 - val_acc: 0.9743\n",
      "Epoch 5/10\n",
      "19218/19218 [==============================] - 39s 2ms/step - loss: 0.2907 - acc: 0.9002 - val_loss: 0.0341 - val_acc: 0.9945\n",
      "Epoch 6/10\n",
      "19218/19218 [==============================] - 38s 2ms/step - loss: 0.1874 - acc: 0.9368 - val_loss: 0.0145 - val_acc: 0.9983\n",
      "Epoch 7/10\n",
      "19218/19218 [==============================] - 39s 2ms/step - loss: 0.1388 - acc: 0.9547 - val_loss: 0.0044 - val_acc: 0.9999\n",
      "Epoch 8/10\n",
      "19218/19218 [==============================] - 38s 2ms/step - loss: 0.0964 - acc: 0.9697 - val_loss: 0.0021 - val_acc: 1.0000\n",
      "Epoch 9/10\n",
      "19218/19218 [==============================] - 38s 2ms/step - loss: 0.0789 - acc: 0.9745 - val_loss: 9.5680e-04 - val_acc: 1.0000\n",
      "Epoch 10/10\n",
      "19218/19218 [==============================] - 37s 2ms/step - loss: 0.0609 - acc: 0.9806 - val_loss: 0.0010 - val_acc: 1.0000\n",
      "--- 385.88991713523865 seconds ---\n"
     ]
    }
   ],
   "source": [
    "#Build model and calculate time\n",
    "start_time = time.time()\n",
    "history3 = cnn4.fit(X_train, y_train,\n",
    "          batch_size=256,\n",
    "          epochs=10,\n",
    "          verbose=1,\n",
    "          validation_data=(X_val, y_val))\n",
    "\n",
    "print(\"--- %s seconds ---\" % (time.time() - start_time))\n",
    "time_arr.append(time.time() - start_time)"
   ]
  },
  {
   "cell_type": "code",
   "execution_count": 19,
   "metadata": {},
   "outputs": [
    {
     "name": "stdout",
     "output_type": "stream",
     "text": [
      "Test loss: 0.13691216259351002\n",
      "Test accuracy: 0.9629113218070273\n"
     ]
    }
   ],
   "source": [
    "#Test the model\n",
    "score3 = cnn4.evaluate(X_test, y_test, verbose=0)\n",
    "print('Test loss:', score3[0])\n",
    "print('Test accuracy:', score3[1])"
   ]
  },
  {
   "cell_type": "code",
   "execution_count": 31,
   "metadata": {
    "scrolled": false
   },
   "outputs": [],
   "source": [
    "# 5 Layer CNN working\n",
    "cnn5 = Sequential()\n",
    "cnn5.add(Conv2D(16, kernel_size=(3, 3), activation='relu', input_shape=input_shape))\n",
    "\n",
    "cnn5.add(Conv2D(32, kernel_size=(3, 3), activation='relu'))\n",
    "\n",
    "cnn5.add(Conv2D(32, kernel_size=(3, 3), activation='relu'))\n",
    "cnn5.add(MaxPooling2D(pool_size=(2, 2)))\n",
    "cnn5.add(Dropout(0.25))\n",
    "\n",
    "cnn5.add(Conv2D(64, kernel_size=(3, 3), activation='relu'))\n",
    "cnn5.add(Dropout(0.25))\n",
    "\n",
    "cnn5.add(Conv2D(128, kernel_size=(3, 3), activation='relu'))\n",
    "cnn5.add(MaxPooling2D(pool_size=(2, 2)))\n",
    "cnn5.add(Dropout(0.25))\n",
    "\n",
    "cnn5.add(Flatten())\n",
    "\n",
    "cnn5.add(Dense(512, activation='relu'))\n",
    "cnn5.add(Dropout(0.5))\n",
    "\n",
    "cnn5.add(Dense(128, activation='relu'))\n",
    "cnn5.add(Dropout(0.5))\n",
    "\n",
    "cnn5.add(Dense(24, activation='softmax'))\n",
    "\n",
    "cnn5.compile(loss=keras.losses.categorical_crossentropy,\n",
    "              optimizer=keras.optimizers.Adam(),\n",
    "              metrics=['accuracy'])"
   ]
  },
  {
   "cell_type": "code",
   "execution_count": 32,
   "metadata": {},
   "outputs": [
    {
     "name": "stdout",
     "output_type": "stream",
     "text": [
      "_________________________________________________________________\n",
      "Layer (type)                 Output Shape              Param #   \n",
      "=================================================================\n",
      "conv2d_34 (Conv2D)           (None, 26, 26, 16)        160       \n",
      "_________________________________________________________________\n",
      "conv2d_35 (Conv2D)           (None, 24, 24, 32)        4640      \n",
      "_________________________________________________________________\n",
      "conv2d_36 (Conv2D)           (None, 22, 22, 32)        9248      \n",
      "_________________________________________________________________\n",
      "max_pooling2d_20 (MaxPooling (None, 11, 11, 32)        0         \n",
      "_________________________________________________________________\n",
      "dropout_35 (Dropout)         (None, 11, 11, 32)        0         \n",
      "_________________________________________________________________\n",
      "conv2d_37 (Conv2D)           (None, 9, 9, 64)          18496     \n",
      "_________________________________________________________________\n",
      "dropout_36 (Dropout)         (None, 9, 9, 64)          0         \n",
      "_________________________________________________________________\n",
      "conv2d_38 (Conv2D)           (None, 7, 7, 128)         73856     \n",
      "_________________________________________________________________\n",
      "max_pooling2d_21 (MaxPooling (None, 3, 3, 128)         0         \n",
      "_________________________________________________________________\n",
      "dropout_37 (Dropout)         (None, 3, 3, 128)         0         \n",
      "_________________________________________________________________\n",
      "flatten_7 (Flatten)          (None, 1152)              0         \n",
      "_________________________________________________________________\n",
      "dense_17 (Dense)             (None, 512)               590336    \n",
      "_________________________________________________________________\n",
      "dropout_38 (Dropout)         (None, 512)               0         \n",
      "_________________________________________________________________\n",
      "dense_18 (Dense)             (None, 128)               65664     \n",
      "_________________________________________________________________\n",
      "dropout_39 (Dropout)         (None, 128)               0         \n",
      "_________________________________________________________________\n",
      "dense_19 (Dense)             (None, 24)                3096      \n",
      "=================================================================\n",
      "Total params: 765,496\n",
      "Trainable params: 765,496\n",
      "Non-trainable params: 0\n",
      "_________________________________________________________________\n"
     ]
    }
   ],
   "source": [
    "cnn5.summary()"
   ]
  },
  {
   "cell_type": "code",
   "execution_count": 33,
   "metadata": {
    "scrolled": true
   },
   "outputs": [
    {
     "name": "stdout",
     "output_type": "stream",
     "text": [
      "Train on 19218 samples, validate on 8237 samples\n",
      "Epoch 1/10\n",
      "19218/19218 [==============================] - 41s 2ms/step - loss: 3.0161 - acc: 0.0868 - val_loss: 2.2612 - val_acc: 0.3328\n",
      "Epoch 2/10\n",
      "19218/19218 [==============================] - 44s 2ms/step - loss: 1.9205 - acc: 0.3828 - val_loss: 0.9045 - val_acc: 0.7182\n",
      "Epoch 3/10\n",
      "19218/19218 [==============================] - 42s 2ms/step - loss: 1.0270 - acc: 0.6573 - val_loss: 0.3897 - val_acc: 0.8773\n",
      "Epoch 4/10\n",
      "19218/19218 [==============================] - 43s 2ms/step - loss: 0.6119 - acc: 0.7904 - val_loss: 0.1818 - val_acc: 0.9563\n",
      "Epoch 5/10\n",
      "19218/19218 [==============================] - 42s 2ms/step - loss: 0.3989 - acc: 0.8620 - val_loss: 0.0731 - val_acc: 0.9870\n",
      "Epoch 6/10\n",
      "19218/19218 [==============================] - 41s 2ms/step - loss: 0.2771 - acc: 0.9087 - val_loss: 0.0409 - val_acc: 0.9925\n",
      "Epoch 7/10\n",
      "19218/19218 [==============================] - 41s 2ms/step - loss: 0.1859 - acc: 0.9385 - val_loss: 0.0286 - val_acc: 0.9972\n",
      "Epoch 8/10\n",
      "19218/19218 [==============================] - 41s 2ms/step - loss: 0.1488 - acc: 0.9520 - val_loss: 0.0046 - val_acc: 1.0000\n",
      "Epoch 9/10\n",
      "19218/19218 [==============================] - 40s 2ms/step - loss: 0.1110 - acc: 0.9647 - val_loss: 0.0025 - val_acc: 1.0000\n",
      "Epoch 10/10\n",
      "19218/19218 [==============================] - 40s 2ms/step - loss: 0.0808 - acc: 0.9738 - val_loss: 9.1899e-04 - val_acc: 1.0000\n",
      "--- 415.0096426010132 seconds ---\n"
     ]
    }
   ],
   "source": [
    "#Build model and calculate time\n",
    "start_time = time.time()\n",
    "history4 = cnn5.fit(X_train, y_train,\n",
    "          batch_size=256,\n",
    "          epochs=10,\n",
    "          verbose=1,\n",
    "          validation_data=(X_val, y_val))\n",
    "print(\"--- %s seconds ---\" % (time.time() - start_time))\n",
    "time_arr.append(time.time() - start_time)"
   ]
  },
  {
   "cell_type": "code",
   "execution_count": 34,
   "metadata": {},
   "outputs": [
    {
     "name": "stdout",
     "output_type": "stream",
     "text": [
      "Test loss: 0.19069007955034062\n",
      "Test accuracy: 0.9559397657557167\n"
     ]
    }
   ],
   "source": [
    "#Test the model\n",
    "score4 = cnn5.evaluate(X_test, y_test, verbose=0)\n",
    "print('Test loss:', score4[0])\n",
    "print('Test accuracy:', score4[1])"
   ]
  },
  {
   "cell_type": "code",
   "execution_count": 35,
   "metadata": {},
   "outputs": [],
   "source": [
    "# 6 Layer CNN\n",
    "cnn6 = Sequential()\n",
    "cnn6.add(Conv2D(16, kernel_size=(3, 3), activation='relu', input_shape=input_shape))\n",
    "\n",
    "cnn6.add(Conv2D(16, kernel_size=(3, 3), activation='relu'))\n",
    "\n",
    "cnn6.add(Conv2D(32, kernel_size=(3, 3), activation='relu'))\n",
    "\n",
    "cnn6.add(Conv2D(32, kernel_size=(3, 3), activation='relu'))\n",
    "cnn6.add(MaxPooling2D(pool_size=(2, 2)))\n",
    "cnn6.add(Dropout(0.25))\n",
    "\n",
    "cnn6.add(Conv2D(64, kernel_size=(3, 3), activation='relu'))\n",
    "cnn6.add(Dropout(0.25))\n",
    "\n",
    "cnn6.add(Conv2D(128, kernel_size=(3, 3), activation='relu'))\n",
    "cnn6.add(MaxPooling2D(pool_size=(2, 2)))\n",
    "cnn6.add(Dropout(0.25))\n",
    "\n",
    "cnn6.add(Flatten())\n",
    "\n",
    "cnn6.add(Dense(512, activation='relu'))\n",
    "cnn6.add(Dropout(0.5))\n",
    "\n",
    "cnn6.add(Dense(128, activation='relu'))\n",
    "cnn6.add(Dropout(0.5))\n",
    "\n",
    "cnn6.add(Dense(24, activation='softmax'))\n",
    "\n",
    "cnn6.compile(loss=keras.losses.categorical_crossentropy,\n",
    "              optimizer=keras.optimizers.Adam(),\n",
    "              metrics=['accuracy'])"
   ]
  },
  {
   "cell_type": "code",
   "execution_count": 36,
   "metadata": {},
   "outputs": [
    {
     "name": "stdout",
     "output_type": "stream",
     "text": [
      "_________________________________________________________________\n",
      "Layer (type)                 Output Shape              Param #   \n",
      "=================================================================\n",
      "conv2d_39 (Conv2D)           (None, 26, 26, 16)        160       \n",
      "_________________________________________________________________\n",
      "conv2d_40 (Conv2D)           (None, 24, 24, 16)        2320      \n",
      "_________________________________________________________________\n",
      "conv2d_41 (Conv2D)           (None, 22, 22, 32)        4640      \n",
      "_________________________________________________________________\n",
      "conv2d_42 (Conv2D)           (None, 20, 20, 32)        9248      \n",
      "_________________________________________________________________\n",
      "max_pooling2d_22 (MaxPooling (None, 10, 10, 32)        0         \n",
      "_________________________________________________________________\n",
      "dropout_40 (Dropout)         (None, 10, 10, 32)        0         \n",
      "_________________________________________________________________\n",
      "conv2d_43 (Conv2D)           (None, 8, 8, 64)          18496     \n",
      "_________________________________________________________________\n",
      "dropout_41 (Dropout)         (None, 8, 8, 64)          0         \n",
      "_________________________________________________________________\n",
      "conv2d_44 (Conv2D)           (None, 6, 6, 128)         73856     \n",
      "_________________________________________________________________\n",
      "max_pooling2d_23 (MaxPooling (None, 3, 3, 128)         0         \n",
      "_________________________________________________________________\n",
      "dropout_42 (Dropout)         (None, 3, 3, 128)         0         \n",
      "_________________________________________________________________\n",
      "flatten_8 (Flatten)          (None, 1152)              0         \n",
      "_________________________________________________________________\n",
      "dense_20 (Dense)             (None, 512)               590336    \n",
      "_________________________________________________________________\n",
      "dropout_43 (Dropout)         (None, 512)               0         \n",
      "_________________________________________________________________\n",
      "dense_21 (Dense)             (None, 128)               65664     \n",
      "_________________________________________________________________\n",
      "dropout_44 (Dropout)         (None, 128)               0         \n",
      "_________________________________________________________________\n",
      "dense_22 (Dense)             (None, 24)                3096      \n",
      "=================================================================\n",
      "Total params: 767,816\n",
      "Trainable params: 767,816\n",
      "Non-trainable params: 0\n",
      "_________________________________________________________________\n"
     ]
    }
   ],
   "source": [
    "cnn6.summary()"
   ]
  },
  {
   "cell_type": "code",
   "execution_count": 37,
   "metadata": {},
   "outputs": [
    {
     "name": "stdout",
     "output_type": "stream",
     "text": [
      "Train on 19218 samples, validate on 8237 samples\n",
      "Epoch 1/10\n",
      "19218/19218 [==============================] - 41s 2ms/step - loss: 2.9867 - acc: 0.0937 - val_loss: 2.1122 - val_acc: 0.3761\n",
      "Epoch 2/10\n",
      "19218/19218 [==============================] - 40s 2ms/step - loss: 1.7258 - acc: 0.4394 - val_loss: 0.6168 - val_acc: 0.8107\n",
      "Epoch 3/10\n",
      "19218/19218 [==============================] - 40s 2ms/step - loss: 0.7983 - acc: 0.7242 - val_loss: 0.2187 - val_acc: 0.9313\n",
      "Epoch 4/10\n",
      "19218/19218 [==============================] - 39s 2ms/step - loss: 0.4657 - acc: 0.8395 - val_loss: 0.0987 - val_acc: 0.9755\n",
      "Epoch 5/10\n",
      "19218/19218 [==============================] - 40s 2ms/step - loss: 0.2949 - acc: 0.9005 - val_loss: 0.0314 - val_acc: 0.9955\n",
      "Epoch 6/10\n",
      "19218/19218 [==============================] - 40s 2ms/step - loss: 0.1973 - acc: 0.9364 - val_loss: 0.0152 - val_acc: 1.0000\n",
      "Epoch 7/10\n",
      "19218/19218 [==============================] - 40s 2ms/step - loss: 0.1384 - acc: 0.9548 - val_loss: 0.0069 - val_acc: 0.9998\n",
      "Epoch 8/10\n",
      "19218/19218 [==============================] - 43s 2ms/step - loss: 0.1136 - acc: 0.9634 - val_loss: 0.0019 - val_acc: 1.0000\n",
      "Epoch 9/10\n",
      "19218/19218 [==============================] - 41s 2ms/step - loss: 0.0907 - acc: 0.9715 - val_loss: 0.0017 - val_acc: 1.0000\n",
      "Epoch 10/10\n",
      "19218/19218 [==============================] - 39s 2ms/step - loss: 0.0666 - acc: 0.9791 - val_loss: 0.0011 - val_acc: 0.9998\n",
      "--- 403.6160931587219 seconds ---\n"
     ]
    }
   ],
   "source": [
    "#Build model and calculate time\n",
    "start_time = time.time()\n",
    "history5 = cnn6.fit(X_train, y_train,\n",
    "          batch_size=256,\n",
    "          epochs=10,\n",
    "          verbose=1,\n",
    "          validation_data=(X_val, y_val))\n",
    "print(\"--- %s seconds ---\" % (time.time() - start_time))\n",
    "time_arr.append(time.time() - start_time)"
   ]
  },
  {
   "cell_type": "code",
   "execution_count": 38,
   "metadata": {},
   "outputs": [
    {
     "name": "stdout",
     "output_type": "stream",
     "text": [
      "Test loss: 0.21267074522741056\n",
      "Test accuracy: 0.949665365309537\n"
     ]
    }
   ],
   "source": [
    "#Test the model\n",
    "score5 = cnn6.evaluate(X_test, y_test, verbose=0)\n",
    "print('Test loss:', score5[0])\n",
    "print('Test accuracy:', score5[1])"
   ]
  },
  {
   "cell_type": "code",
   "execution_count": null,
   "metadata": {},
   "outputs": [],
   "source": []
  },
  {
   "cell_type": "code",
   "execution_count": null,
   "metadata": {},
   "outputs": [],
   "source": [
    "import matplotlib.pyplot as plt"
   ]
  },
  {
   "cell_type": "code",
   "execution_count": null,
   "metadata": {},
   "outputs": [],
   "source": [
    "#Check performance for each evaluation by changing history variable\n",
    "plt.plot(history4.history['acc'])\n",
    "plt.plot(history4.history['val_acc'])\n",
    "plt.title(\"Accuracy\")\n",
    "plt.xlabel('epoch')\n",
    "plt.ylabel('accuracy')\n",
    "plt.legend(['train','test'])\n",
    "plt.show()"
   ]
  },
  {
   "cell_type": "code",
   "execution_count": null,
   "metadata": {},
   "outputs": [],
   "source": [
    "#initiate arrays to append all of result\n",
    "array_score = []\n",
    "array_loss = []\n",
    "array_time = []"
   ]
  },
  {
   "cell_type": "code",
   "execution_count": null,
   "metadata": {},
   "outputs": [],
   "source": [
    "array_score.append(score1[1])\n",
    "array_score.append(score2[1])\n",
    "array_score.append(score3[1])\n",
    "array_score.append(score4[1])\n",
    "array_score.append(score5[1])"
   ]
  },
  {
   "cell_type": "code",
   "execution_count": null,
   "metadata": {},
   "outputs": [],
   "source": [
    "array_loss.append(score1[0])\n",
    "array_loss.append(score2[0])\n",
    "array_loss.append(score3[0])\n",
    "array_loss.append(score4[0])\n",
    "array_loss.append(score5[0])"
   ]
  },
  {
   "cell_type": "code",
   "execution_count": null,
   "metadata": {},
   "outputs": [],
   "source": [
    "array_time.append(time_arr[0])\n",
    "array_time.append(time_arr[1])\n",
    "array_time.append(time_arr[2])\n",
    "array_time.append(time_arr[3])\n",
    "array_time.append(time_arr[4])"
   ]
  },
  {
   "cell_type": "code",
   "execution_count": null,
   "metadata": {},
   "outputs": [],
   "source": [
    "inc_arr = []"
   ]
  },
  {
   "cell_type": "code",
   "execution_count": null,
   "metadata": {},
   "outputs": [],
   "source": [
    "inc_arr.append(1)\n",
    "inc_arr.append(2)\n",
    "inc_arr.append(3)\n",
    "inc_arr.append(4)"
   ]
  },
  {
   "cell_type": "code",
   "execution_count": null,
   "metadata": {},
   "outputs": [],
   "source": [
    "#draw the accuracy graph\n",
    "plt.plot(array_score)\n",
    "plt.title(\"Accuracy Comparison\")\n",
    "plt.xticks(inc_arr)\n",
    "plt.xlabel('scenarios')\n",
    "plt.ylabel('accuracy')\n",
    "plt.legend(['accuracy'])#,'loss'])\n",
    "plt.show()"
   ]
  },
  {
   "cell_type": "code",
   "execution_count": null,
   "metadata": {},
   "outputs": [],
   "source": [
    "#draw the loss function graph\n",
    "plt.plot(array_loss)\n",
    "plt.title(\"Loss Comparison\")\n",
    "plt.xticks(inc_arr)\n",
    "plt.xlabel('scenarios')\n",
    "plt.ylabel('accuracy')\n",
    "plt.legend(['loss'])#,'loss'])\n",
    "plt.show()"
   ]
  },
  {
   "cell_type": "code",
   "execution_count": null,
   "metadata": {},
   "outputs": [],
   "source": [
    "#draw the time graph\n",
    "plt.plot(array_time)\n",
    "plt.title(\"Time Comparison\")\n",
    "plt.xticks(inc_arr)\n",
    "plt.xlabel('scenarios')\n",
    "plt.ylabel('seconds')\n",
    "plt.legend(['time'])#,'loss'])\n",
    "plt.show()"
   ]
  },
  {
   "cell_type": "code",
   "execution_count": null,
   "metadata": {},
   "outputs": [],
   "source": []
  }
 ],
 "metadata": {
  "kernelspec": {
   "display_name": "Python 3",
   "language": "python",
   "name": "python3"
  },
  "language_info": {
   "codemirror_mode": {
    "name": "ipython",
    "version": 3
   },
   "file_extension": ".py",
   "mimetype": "text/x-python",
   "name": "python",
   "nbconvert_exporter": "python",
   "pygments_lexer": "ipython3",
   "version": "3.7.1"
  }
 },
 "nbformat": 4,
 "nbformat_minor": 2
}
