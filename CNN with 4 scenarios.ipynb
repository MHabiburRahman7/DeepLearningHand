{
 "cells": [
  {
   "cell_type": "code",
   "execution_count": null,
   "metadata": {},
   "outputs": [],
   "source": [
    "#this is from : https://github.com/khanhnamle1994/fashion-mnist/blob/master/CNN-1Conv.ipynb"
   ]
  },
  {
   "cell_type": "code",
   "execution_count": null,
   "metadata": {},
   "outputs": [],
   "source": [
    "import numpy as np\n",
    "import pandas as pd\n",
    "import matplotlib.pyplot as plt\n",
    "import time"
   ]
  },
  {
   "cell_type": "code",
   "execution_count": null,
   "metadata": {},
   "outputs": [],
   "source": [
    "time_arr = []"
   ]
  },
  {
   "cell_type": "code",
   "execution_count": null,
   "metadata": {},
   "outputs": [],
   "source": [
    "# Import libraries\n",
    "from keras.utils import to_categorical\n",
    "from sklearn.model_selection import train_test_split\n",
    "#binarize label because our label is nominal\n",
    "from sklearn.preprocessing import LabelBinarizer\n",
    "label_binrizer = LabelBinarizer()\n",
    "\n",
    "# Load training and test data from csv\n",
    "train_set = pd.read_csv('Dataset/sign_mnist_train.csv')\n",
    "test_set = pd.read_csv('Dataset/sign_mnist_test.csv')\n",
    "\n",
    "# X is training images, and y is training labels\n",
    "X = np.array(train_set.iloc[:, 1:])\n",
    "y = label_binrizer.fit_transform(np.array(train_set.iloc[:, 0]))\n",
    "\n",
    "# Split original training data into sub-training (70%) and validation data (30%)\n",
    "X_train, X_val, y_train, y_val = train_test_split(X, y, test_size=0.3, random_state=13)\n",
    "\n",
    "# X_test forms the test images, and y_test forms the test labels\n",
    "X_test = np.array(test_set.iloc[:, 1:])\n",
    "y_test = label_binrizer.fit_transform(np.array(test_set.iloc[:, 0]))"
   ]
  },
  {
   "cell_type": "code",
   "execution_count": null,
   "metadata": {},
   "outputs": [],
   "source": []
  },
  {
   "cell_type": "code",
   "execution_count": null,
   "metadata": {},
   "outputs": [],
   "source": [
    "#make label as unique value\n",
    "unique_train_val = np.array(y)\n",
    "np.unique(unique_train_val)"
   ]
  },
  {
   "cell_type": "code",
   "execution_count": null,
   "metadata": {},
   "outputs": [],
   "source": [
    "#let see image before it is normalized\n",
    "plt.imshow(X_train[0].reshape(28,28))"
   ]
  },
  {
   "cell_type": "code",
   "execution_count": null,
   "metadata": {},
   "outputs": [],
   "source": [
    "# Each image's dimension is 28 x 28\n",
    "img_rows, img_cols = 28, 28\n",
    "input_shape = (img_rows, img_cols, 1)\n",
    "\n",
    "# Prepare the training images\n",
    "X_train = X_train.reshape(X_train.shape[0], img_rows, img_cols, 1)\n",
    "X_train = X_train.astype('float32')\n",
    "X_train /= 255\n",
    "\n",
    "# Prepare the test images\n",
    "X_test = X_test.reshape(X_test.shape[0], img_rows, img_cols, 1)\n",
    "X_test = X_test.astype('float32')\n",
    "X_test /= 255\n",
    "\n",
    "# Prepare the validation images\n",
    "X_val = X_val.reshape(X_val.shape[0], img_rows, img_cols, 1)\n",
    "X_val = X_val.astype('float32')\n",
    "X_val /= 255"
   ]
  },
  {
   "cell_type": "code",
   "execution_count": null,
   "metadata": {},
   "outputs": [],
   "source": [
    "#let see image after it is normalized\n",
    "plt.imshow(X_train[0].reshape(28,28))"
   ]
  },
  {
   "cell_type": "code",
   "execution_count": 8,
   "metadata": {},
   "outputs": [],
   "source": [
    "# Import Keras libraries\n",
    "import keras\n",
    "from keras.models import Sequential\n",
    "from keras.layers import Dense, Dropout, Flatten\n",
    "from keras.layers import Conv2D, MaxPooling2D, BatchNormalization"
   ]
  },
  {
   "cell_type": "code",
   "execution_count": 9,
   "metadata": {},
   "outputs": [
    {
     "name": "stdout",
     "output_type": "stream",
     "text": [
      "WARNING:tensorflow:From C:\\ProgramData\\Anaconda3\\lib\\site-packages\\tensorflow\\python\\framework\\op_def_library.py:263: colocate_with (from tensorflow.python.framework.ops) is deprecated and will be removed in a future version.\n",
      "Instructions for updating:\n",
      "Colocations handled automatically by placer.\n",
      "WARNING:tensorflow:From C:\\ProgramData\\Anaconda3\\lib\\site-packages\\keras\\backend\\tensorflow_backend.py:3445: calling dropout (from tensorflow.python.ops.nn_ops) with keep_prob is deprecated and will be removed in a future version.\n",
      "Instructions for updating:\n",
      "Please use `rate` instead of `keep_prob`. Rate should be set to `rate = 1 - keep_prob`.\n"
     ]
    }
   ],
   "source": [
    "# Single Layer CNN\n",
    "cnn1 = Sequential()\n",
    "cnn1.add(Conv2D(32, kernel_size=(3, 3), activation='relu', input_shape=input_shape))\n",
    "cnn1.add(MaxPooling2D(pool_size=(2, 2)))\n",
    "cnn1.add(Dropout(0.2))\n",
    "\n",
    "cnn1.add(Flatten())\n",
    "\n",
    "cnn1.add(Dense(128, activation='relu'))\n",
    "cnn1.add(Dense(24, activation='softmax'))\n",
    "\n",
    "cnn1.compile(loss=keras.losses.categorical_crossentropy,\n",
    "              optimizer=keras.optimizers.Adam(),\n",
    "              metrics=['accuracy'])"
   ]
  },
  {
   "cell_type": "code",
   "execution_count": null,
   "metadata": {},
   "outputs": [],
   "source": [
    "cnn1.summary()"
   ]
  },
  {
   "cell_type": "code",
   "execution_count": 10,
   "metadata": {},
   "outputs": [
    {
     "name": "stdout",
     "output_type": "stream",
     "text": [
      "WARNING:tensorflow:From C:\\ProgramData\\Anaconda3\\lib\\site-packages\\tensorflow\\python\\ops\\math_ops.py:3066: to_int32 (from tensorflow.python.ops.math_ops) is deprecated and will be removed in a future version.\n",
      "Instructions for updating:\n",
      "Use tf.cast instead.\n",
      "Train on 19218 samples, validate on 8237 samples\n",
      "Epoch 1/10\n",
      "19218/19218 [==============================] - 9s 443us/step - loss: 2.4268 - acc: 0.3626 - val_loss: 1.4973 - val_acc: 0.6343\n",
      "Epoch 2/10\n",
      "19218/19218 [==============================] - 8s 424us/step - loss: 1.1133 - acc: 0.7099 - val_loss: 0.7854 - val_acc: 0.8028\n",
      "Epoch 3/10\n",
      "19218/19218 [==============================] - 8s 423us/step - loss: 0.6376 - acc: 0.8428 - val_loss: 0.4908 - val_acc: 0.8818\n",
      "Epoch 4/10\n",
      "19218/19218 [==============================] - 8s 427us/step - loss: 0.4042 - acc: 0.9116 - val_loss: 0.3289 - val_acc: 0.9366\n",
      "Epoch 5/10\n",
      "19218/19218 [==============================] - 9s 482us/step - loss: 0.2680 - acc: 0.9487 - val_loss: 0.2071 - val_acc: 0.9655\n",
      "Epoch 6/10\n",
      "19218/19218 [==============================] - 10s 528us/step - loss: 0.1849 - acc: 0.9700 - val_loss: 0.1393 - val_acc: 0.9831\n",
      "Epoch 7/10\n",
      "19218/19218 [==============================] - 8s 403us/step - loss: 0.1315 - acc: 0.9833 - val_loss: 0.0975 - val_acc: 0.9925\n",
      "Epoch 8/10\n",
      "19218/19218 [==============================] - 8s 396us/step - loss: 0.0927 - acc: 0.9925 - val_loss: 0.0657 - val_acc: 0.9987\n",
      "Epoch 9/10\n",
      "19218/19218 [==============================] - 8s 391us/step - loss: 0.0705 - acc: 0.9955 - val_loss: 0.0522 - val_acc: 0.9977\n",
      "Epoch 10/10\n",
      "19218/19218 [==============================] - 8s 392us/step - loss: 0.0527 - acc: 0.9976 - val_loss: 0.0376 - val_acc: 0.9996\n",
      "--- 83.05427718162537 seconds ---\n"
     ]
    }
   ],
   "source": [
    "start_time = time.time()\n",
    "history1 = cnn1.fit(X_train, y_train,\n",
    "          batch_size=256,\n",
    "          epochs=10,\n",
    "          verbose=1,\n",
    "          validation_data=(X_val, y_val))\n",
    "\n",
    "print(\"--- %s seconds ---\" % (time.time() - start_time))\n",
    "time_arr.append(time.time() - start_time)"
   ]
  },
  {
   "cell_type": "code",
   "execution_count": 11,
   "metadata": {
    "scrolled": true
   },
   "outputs": [
    {
     "name": "stdout",
     "output_type": "stream",
     "text": [
      "Test loss: 0.5852553726314701\n",
      "Test accuracy: 0.8377021751254881\n"
     ]
    }
   ],
   "source": [
    "score1 = cnn1.evaluate(X_test, y_test, verbose=0)\n",
    "print('Test loss:', score1[0])\n",
    "print('Test accuracy:', score1[1])"
   ]
  },
  {
   "cell_type": "code",
   "execution_count": 12,
   "metadata": {},
   "outputs": [],
   "source": [
    "# 3 Layer CNN\n",
    "cnn3 = Sequential()\n",
    "cnn3.add(Conv2D(32, kernel_size=(3, 3), activation='relu', input_shape=input_shape))\n",
    "cnn3.add(MaxPooling2D((2, 2)))\n",
    "cnn3.add(Dropout(0.25))\n",
    "\n",
    "cnn3.add(Conv2D(64, kernel_size=(3, 3), activation='relu'))\n",
    "cnn3.add(MaxPooling2D(pool_size=(2, 2)))\n",
    "cnn3.add(Dropout(0.25))\n",
    "\n",
    "cnn3.add(Conv2D(128, kernel_size=(3, 3), activation='relu'))\n",
    "cnn3.add(Dropout(0.4))\n",
    "\n",
    "cnn3.add(Flatten())\n",
    "\n",
    "cnn3.add(Dense(128, activation='relu'))\n",
    "cnn3.add(Dropout(0.3))\n",
    "cnn3.add(Dense(24, activation='softmax'))\n",
    "\n",
    "cnn3.compile(loss=keras.losses.categorical_crossentropy,\n",
    "              optimizer=keras.optimizers.Adam(),\n",
    "              metrics=['accuracy'])"
   ]
  },
  {
   "cell_type": "code",
   "execution_count": 13,
   "metadata": {},
   "outputs": [
    {
     "name": "stdout",
     "output_type": "stream",
     "text": [
      "_________________________________________________________________\n",
      "Layer (type)                 Output Shape              Param #   \n",
      "=================================================================\n",
      "conv2d_2 (Conv2D)            (None, 26, 26, 32)        320       \n",
      "_________________________________________________________________\n",
      "max_pooling2d_2 (MaxPooling2 (None, 13, 13, 32)        0         \n",
      "_________________________________________________________________\n",
      "dropout_2 (Dropout)          (None, 13, 13, 32)        0         \n",
      "_________________________________________________________________\n",
      "conv2d_3 (Conv2D)            (None, 11, 11, 64)        18496     \n",
      "_________________________________________________________________\n",
      "max_pooling2d_3 (MaxPooling2 (None, 5, 5, 64)          0         \n",
      "_________________________________________________________________\n",
      "dropout_3 (Dropout)          (None, 5, 5, 64)          0         \n",
      "_________________________________________________________________\n",
      "conv2d_4 (Conv2D)            (None, 3, 3, 128)         73856     \n",
      "_________________________________________________________________\n",
      "dropout_4 (Dropout)          (None, 3, 3, 128)         0         \n",
      "_________________________________________________________________\n",
      "flatten_2 (Flatten)          (None, 1152)              0         \n",
      "_________________________________________________________________\n",
      "dense_3 (Dense)              (None, 128)               147584    \n",
      "_________________________________________________________________\n",
      "dropout_5 (Dropout)          (None, 128)               0         \n",
      "_________________________________________________________________\n",
      "dense_4 (Dense)              (None, 24)                3096      \n",
      "=================================================================\n",
      "Total params: 243,352\n",
      "Trainable params: 243,352\n",
      "Non-trainable params: 0\n",
      "_________________________________________________________________\n"
     ]
    }
   ],
   "source": [
    "cnn3.summary()"
   ]
  },
  {
   "cell_type": "code",
   "execution_count": 14,
   "metadata": {},
   "outputs": [
    {
     "name": "stdout",
     "output_type": "stream",
     "text": [
      "Train on 19218 samples, validate on 8237 samples\n",
      "Epoch 1/10\n",
      "19218/19218 [==============================] - 14s 704us/step - loss: 3.0308 - acc: 0.0949 - val_loss: 2.3095 - val_acc: 0.3342\n",
      "Epoch 2/10\n",
      "19218/19218 [==============================] - 13s 696us/step - loss: 1.8627 - acc: 0.4084 - val_loss: 1.0427 - val_acc: 0.7100\n",
      "Epoch 3/10\n",
      "19218/19218 [==============================] - 13s 681us/step - loss: 1.0642 - acc: 0.6462 - val_loss: 0.5523 - val_acc: 0.8536\n",
      "Epoch 4/10\n",
      "19218/19218 [==============================] - 13s 684us/step - loss: 0.6989 - acc: 0.7633 - val_loss: 0.2959 - val_acc: 0.9272\n",
      "Epoch 5/10\n",
      "19218/19218 [==============================] - 13s 684us/step - loss: 0.4972 - acc: 0.8303 - val_loss: 0.1794 - val_acc: 0.9631\n",
      "Epoch 6/10\n",
      "19218/19218 [==============================] - 13s 692us/step - loss: 0.3679 - acc: 0.8736 - val_loss: 0.1217 - val_acc: 0.9739\n",
      "Epoch 7/10\n",
      "19218/19218 [==============================] - 13s 681us/step - loss: 0.2992 - acc: 0.8986 - val_loss: 0.0746 - val_acc: 0.9882\n",
      "Epoch 8/10\n",
      "19218/19218 [==============================] - 13s 690us/step - loss: 0.2477 - acc: 0.9160 - val_loss: 0.0530 - val_acc: 0.9934\n",
      "Epoch 9/10\n",
      "19218/19218 [==============================] - 13s 701us/step - loss: 0.2005 - acc: 0.9342 - val_loss: 0.0356 - val_acc: 0.9954\n",
      "Epoch 10/10\n",
      "19218/19218 [==============================] - 13s 686us/step - loss: 0.1651 - acc: 0.9434 - val_loss: 0.0263 - val_acc: 0.9973\n",
      "--- 133.02156853675842 seconds ---\n"
     ]
    }
   ],
   "source": [
    "start_time = time.time()\n",
    "history2 = cnn3.fit(X_train, y_train,\n",
    "          batch_size=256,\n",
    "          epochs=10,\n",
    "          verbose=1,\n",
    "          validation_data=(X_val, y_val))\n",
    "print(\"--- %s seconds ---\" % (time.time() - start_time))\n",
    "time_arr.append(time.time() - start_time)"
   ]
  },
  {
   "cell_type": "code",
   "execution_count": 15,
   "metadata": {},
   "outputs": [
    {
     "name": "stdout",
     "output_type": "stream",
     "text": [
      "Test loss: 0.16934845983001418\n",
      "Test accuracy: 0.954824316787507\n"
     ]
    }
   ],
   "source": [
    "score2 = cnn3.evaluate(X_test, y_test, verbose=0)\n",
    "print('Test loss:', score2[0])\n",
    "print('Test accuracy:', score2[1])"
   ]
  },
  {
   "cell_type": "code",
   "execution_count": 16,
   "metadata": {},
   "outputs": [],
   "source": [
    "# 4 Layer CNN\n",
    "cnn4 = Sequential()\n",
    "cnn4.add(Conv2D(32, kernel_size=(3, 3), activation='relu', input_shape=input_shape))\n",
    "#cnn4.add(BatchNormalization())\n",
    "\n",
    "cnn4.add(Conv2D(32, kernel_size=(3, 3), activation='relu'))\n",
    "#cnn4.add(BatchNormalization())\n",
    "cnn4.add(MaxPooling2D(pool_size=(2, 2)))\n",
    "cnn4.add(Dropout(0.25))\n",
    "\n",
    "cnn4.add(Conv2D(64, kernel_size=(3, 3), activation='relu'))\n",
    "#cnn4.add(BatchNormalization())\n",
    "cnn4.add(Dropout(0.25))\n",
    "\n",
    "cnn4.add(Conv2D(128, kernel_size=(3, 3), activation='relu'))\n",
    "#cnn4.add(BatchNormalization())\n",
    "cnn4.add(MaxPooling2D(pool_size=(2, 2)))\n",
    "cnn4.add(Dropout(0.25))\n",
    "\n",
    "cnn4.add(Flatten())\n",
    "\n",
    "cnn4.add(Dense(512, activation='relu'))\n",
    "#cnn4.add(BatchNormalization())\n",
    "cnn4.add(Dropout(0.5))\n",
    "\n",
    "cnn4.add(Dense(128, activation='relu'))\n",
    "#cnn4.add(BatchNormalization())\n",
    "cnn4.add(Dropout(0.5))\n",
    "\n",
    "cnn4.add(Dense(24, activation='softmax'))\n",
    "\n",
    "cnn4.compile(loss=keras.losses.categorical_crossentropy,\n",
    "              optimizer=keras.optimizers.Adam(),\n",
    "              metrics=['accuracy'])"
   ]
  },
  {
   "cell_type": "code",
   "execution_count": 17,
   "metadata": {},
   "outputs": [
    {
     "name": "stdout",
     "output_type": "stream",
     "text": [
      "_________________________________________________________________\n",
      "Layer (type)                 Output Shape              Param #   \n",
      "=================================================================\n",
      "conv2d_5 (Conv2D)            (None, 26, 26, 32)        320       \n",
      "_________________________________________________________________\n",
      "conv2d_6 (Conv2D)            (None, 24, 24, 32)        9248      \n",
      "_________________________________________________________________\n",
      "max_pooling2d_4 (MaxPooling2 (None, 12, 12, 32)        0         \n",
      "_________________________________________________________________\n",
      "dropout_6 (Dropout)          (None, 12, 12, 32)        0         \n",
      "_________________________________________________________________\n",
      "conv2d_7 (Conv2D)            (None, 10, 10, 64)        18496     \n",
      "_________________________________________________________________\n",
      "dropout_7 (Dropout)          (None, 10, 10, 64)        0         \n",
      "_________________________________________________________________\n",
      "conv2d_8 (Conv2D)            (None, 8, 8, 128)         73856     \n",
      "_________________________________________________________________\n",
      "max_pooling2d_5 (MaxPooling2 (None, 4, 4, 128)         0         \n",
      "_________________________________________________________________\n",
      "dropout_8 (Dropout)          (None, 4, 4, 128)         0         \n",
      "_________________________________________________________________\n",
      "flatten_3 (Flatten)          (None, 2048)              0         \n",
      "_________________________________________________________________\n",
      "dense_5 (Dense)              (None, 512)               1049088   \n",
      "_________________________________________________________________\n",
      "dropout_9 (Dropout)          (None, 512)               0         \n",
      "_________________________________________________________________\n",
      "dense_6 (Dense)              (None, 128)               65664     \n",
      "_________________________________________________________________\n",
      "dropout_10 (Dropout)         (None, 128)               0         \n",
      "_________________________________________________________________\n",
      "dense_7 (Dense)              (None, 24)                3096      \n",
      "=================================================================\n",
      "Total params: 1,219,768\n",
      "Trainable params: 1,219,768\n",
      "Non-trainable params: 0\n",
      "_________________________________________________________________\n"
     ]
    }
   ],
   "source": [
    "cnn4.summary()"
   ]
  },
  {
   "cell_type": "code",
   "execution_count": 18,
   "metadata": {},
   "outputs": [
    {
     "name": "stdout",
     "output_type": "stream",
     "text": [
      "Train on 19218 samples, validate on 8237 samples\n",
      "Epoch 1/10\n",
      "19218/19218 [==============================] - 36s 2ms/step - loss: 2.9418 - acc: 0.1125 - val_loss: 1.9589 - val_acc: 0.3955\n",
      "Epoch 2/10\n",
      "19218/19218 [==============================] - 35s 2ms/step - loss: 1.5175 - acc: 0.5106 - val_loss: 0.5657 - val_acc: 0.8431\n",
      "Epoch 3/10\n",
      "19218/19218 [==============================] - 35s 2ms/step - loss: 0.7146 - acc: 0.7520 - val_loss: 0.2018 - val_acc: 0.9485\n",
      "Epoch 4/10\n",
      "19218/19218 [==============================] - 36s 2ms/step - loss: 0.3928 - acc: 0.8629 - val_loss: 0.0553 - val_acc: 0.9924\n",
      "Epoch 5/10\n",
      "19218/19218 [==============================] - 35s 2ms/step - loss: 0.2301 - acc: 0.9232 - val_loss: 0.0266 - val_acc: 0.9947\n",
      "Epoch 6/10\n",
      "19218/19218 [==============================] - 36s 2ms/step - loss: 0.1683 - acc: 0.9423 - val_loss: 0.0100 - val_acc: 0.9995\n",
      "Epoch 7/10\n",
      "19218/19218 [==============================] - 35s 2ms/step - loss: 0.1124 - acc: 0.9634 - val_loss: 0.0050 - val_acc: 0.9989\n",
      "Epoch 8/10\n",
      "19218/19218 [==============================] - 35s 2ms/step - loss: 0.0845 - acc: 0.9736 - val_loss: 0.0033 - val_acc: 0.9996\n",
      "Epoch 9/10\n",
      "19218/19218 [==============================] - 35s 2ms/step - loss: 0.0770 - acc: 0.9774 - val_loss: 0.0010 - val_acc: 1.0000\n",
      "Epoch 10/10\n",
      "19218/19218 [==============================] - 35s 2ms/step - loss: 0.0661 - acc: 0.9792 - val_loss: 8.4855e-04 - val_acc: 1.0000\n",
      "--- 355.5864610671997 seconds ---\n"
     ]
    }
   ],
   "source": [
    "start_time = time.time()\n",
    "history3 = cnn4.fit(X_train, y_train,\n",
    "          batch_size=256,\n",
    "          epochs=10,\n",
    "          verbose=1,\n",
    "          validation_data=(X_val, y_val))\n",
    "\n",
    "print(\"--- %s seconds ---\" % (time.time() - start_time))\n",
    "time_arr.append(time.time() - start_time)"
   ]
  },
  {
   "cell_type": "code",
   "execution_count": 19,
   "metadata": {},
   "outputs": [
    {
     "name": "stdout",
     "output_type": "stream",
     "text": [
      "Test loss: 0.14766053988847155\n",
      "Test accuracy: 0.9592861126603458\n"
     ]
    }
   ],
   "source": [
    "score3 = cnn4.evaluate(X_test, y_test, verbose=0)\n",
    "print('Test loss:', score3[0])\n",
    "print('Test accuracy:', score3[1])"
   ]
  },
  {
   "cell_type": "code",
   "execution_count": 20,
   "metadata": {
    "scrolled": false
   },
   "outputs": [],
   "source": [
    "# 5 Layer CNN working\n",
    "cnn5 = Sequential()\n",
    "cnn5.add(Conv2D(16, kernel_size=(3, 3), activation='relu', input_shape=input_shape))\n",
    "\n",
    "cnn5.add(Conv2D(32, kernel_size=(3, 3), activation='relu'))\n",
    "#cnn4.add(BatchNormalization())\n",
    "\n",
    "cnn5.add(Conv2D(32, kernel_size=(3, 3), activation='relu'))\n",
    "#cnn4.add(BatchNormalization())\n",
    "cnn5.add(MaxPooling2D(pool_size=(2, 2)))\n",
    "cnn5.add(Dropout(0.25))\n",
    "\n",
    "cnn5.add(Conv2D(64, kernel_size=(3, 3), activation='relu'))\n",
    "#cnn4.add(BatchNormalization())\n",
    "cnn5.add(Dropout(0.25))\n",
    "\n",
    "cnn5.add(Conv2D(128, kernel_size=(3, 3), activation='relu'))\n",
    "#cnn4.add(BatchNormalization())\n",
    "cnn5.add(MaxPooling2D(pool_size=(2, 2)))\n",
    "cnn5.add(Dropout(0.25))\n",
    "\n",
    "cnn5.add(Flatten())\n",
    "\n",
    "cnn5.add(Dense(512, activation='relu'))\n",
    "#cnn4.add(BatchNormalization())\n",
    "cnn5.add(Dropout(0.5))\n",
    "\n",
    "cnn5.add(Dense(128, activation='relu'))\n",
    "#cnn4.add(BatchNormalization())\n",
    "cnn5.add(Dropout(0.5))\n",
    "\n",
    "cnn5.add(Dense(24, activation='softmax'))\n",
    "\n",
    "cnn5.compile(loss=keras.losses.categorical_crossentropy,\n",
    "              optimizer=keras.optimizers.Adam(),\n",
    "              metrics=['accuracy'])"
   ]
  },
  {
   "cell_type": "code",
   "execution_count": 21,
   "metadata": {},
   "outputs": [
    {
     "name": "stdout",
     "output_type": "stream",
     "text": [
      "_________________________________________________________________\n",
      "Layer (type)                 Output Shape              Param #   \n",
      "=================================================================\n",
      "conv2d_9 (Conv2D)            (None, 26, 26, 16)        160       \n",
      "_________________________________________________________________\n",
      "conv2d_10 (Conv2D)           (None, 24, 24, 32)        4640      \n",
      "_________________________________________________________________\n",
      "conv2d_11 (Conv2D)           (None, 22, 22, 32)        9248      \n",
      "_________________________________________________________________\n",
      "max_pooling2d_6 (MaxPooling2 (None, 11, 11, 32)        0         \n",
      "_________________________________________________________________\n",
      "dropout_11 (Dropout)         (None, 11, 11, 32)        0         \n",
      "_________________________________________________________________\n",
      "conv2d_12 (Conv2D)           (None, 9, 9, 64)          18496     \n",
      "_________________________________________________________________\n",
      "dropout_12 (Dropout)         (None, 9, 9, 64)          0         \n",
      "_________________________________________________________________\n",
      "conv2d_13 (Conv2D)           (None, 7, 7, 128)         73856     \n",
      "_________________________________________________________________\n",
      "max_pooling2d_7 (MaxPooling2 (None, 3, 3, 128)         0         \n",
      "_________________________________________________________________\n",
      "dropout_13 (Dropout)         (None, 3, 3, 128)         0         \n",
      "_________________________________________________________________\n",
      "flatten_4 (Flatten)          (None, 1152)              0         \n",
      "_________________________________________________________________\n",
      "dense_8 (Dense)              (None, 512)               590336    \n",
      "_________________________________________________________________\n",
      "dropout_14 (Dropout)         (None, 512)               0         \n",
      "_________________________________________________________________\n",
      "dense_9 (Dense)              (None, 128)               65664     \n",
      "_________________________________________________________________\n",
      "dropout_15 (Dropout)         (None, 128)               0         \n",
      "_________________________________________________________________\n",
      "dense_10 (Dense)             (None, 24)                3096      \n",
      "=================================================================\n",
      "Total params: 765,496\n",
      "Trainable params: 765,496\n",
      "Non-trainable params: 0\n",
      "_________________________________________________________________\n"
     ]
    }
   ],
   "source": [
    "cnn5.summary()"
   ]
  },
  {
   "cell_type": "code",
   "execution_count": 22,
   "metadata": {},
   "outputs": [
    {
     "name": "stdout",
     "output_type": "stream",
     "text": [
      "Train on 19218 samples, validate on 8237 samples\n",
      "Epoch 1/10\n",
      "19218/19218 [==============================] - 38s 2ms/step - loss: 3.0717 - acc: 0.0760 - val_loss: 2.3374 - val_acc: 0.2780\n",
      "Epoch 2/10\n",
      "19218/19218 [==============================] - 41s 2ms/step - loss: 1.8236 - acc: 0.4001 - val_loss: 0.7229 - val_acc: 0.7807\n",
      "Epoch 3/10\n",
      "19218/19218 [==============================] - 41s 2ms/step - loss: 0.8890 - acc: 0.6994 - val_loss: 0.3359 - val_acc: 0.8878\n",
      "Epoch 4/10\n",
      "19218/19218 [==============================] - 38s 2ms/step - loss: 0.5142 - acc: 0.8203 - val_loss: 0.1721 - val_acc: 0.9520\n",
      "Epoch 5/10\n",
      "19218/19218 [==============================] - 37s 2ms/step - loss: 0.3374 - acc: 0.8845 - val_loss: 0.0613 - val_acc: 0.9853\n",
      "Epoch 6/10\n",
      "19218/19218 [==============================] - 37s 2ms/step - loss: 0.2306 - acc: 0.9232 - val_loss: 0.0449 - val_acc: 0.9896\n",
      "Epoch 7/10\n",
      "19218/19218 [==============================] - 39s 2ms/step - loss: 0.1694 - acc: 0.9430 - val_loss: 0.0304 - val_acc: 0.9917\n",
      "Epoch 8/10\n",
      "19218/19218 [==============================] - 37s 2ms/step - loss: 0.1411 - acc: 0.9554 - val_loss: 0.0068 - val_acc: 0.9998\n",
      "Epoch 9/10\n",
      "19218/19218 [==============================] - 36s 2ms/step - loss: 0.0884 - acc: 0.9736 - val_loss: 0.0033 - val_acc: 1.0000\n",
      "Epoch 10/10\n",
      "19218/19218 [==============================] - 37s 2ms/step - loss: 0.0827 - acc: 0.9738 - val_loss: 0.0022 - val_acc: 0.9998\n",
      "--- 380.7066535949707 seconds ---\n"
     ]
    }
   ],
   "source": [
    "start_time = time.time()\n",
    "history4 = cnn5.fit(X_train, y_train,\n",
    "          batch_size=256,\n",
    "          epochs=10,\n",
    "          verbose=1,\n",
    "          validation_data=(X_val, y_val))\n",
    "print(\"--- %s seconds ---\" % (time.time() - start_time))\n",
    "time_arr.append(time.time() - start_time)"
   ]
  },
  {
   "cell_type": "code",
   "execution_count": 23,
   "metadata": {},
   "outputs": [
    {
     "name": "stdout",
     "output_type": "stream",
     "text": [
      "Test loss: 0.19024539503455207\n",
      "Test accuracy: 0.9530117122141663\n"
     ]
    }
   ],
   "source": [
    "score4 = cnn5.evaluate(X_test, y_test, verbose=0)\n",
    "print('Test loss:', score4[0])\n",
    "print('Test accuracy:', score4[1])"
   ]
  },
  {
   "cell_type": "code",
   "execution_count": 24,
   "metadata": {},
   "outputs": [],
   "source": [
    "# 6 Layer CNN\n",
    "cnn6 = Sequential()\n",
    "cnn6.add(Conv2D(16, kernel_size=(3, 3), activation='relu', input_shape=input_shape))\n",
    "#cnn5.add(MaxPooling2D(pool_size=(2, 2)))\n",
    "#cnn5.add(Dropout(0.25))\n",
    "\n",
    "cnn6.add(Conv2D(16, kernel_size=(3, 3), activation='relu'))\n",
    "\n",
    "cnn6.add(Conv2D(32, kernel_size=(3, 3), activation='relu'))\n",
    "#cnn4.add(BatchNormalization())\n",
    "#cnn5.add(MaxPooling2D(pool_size=(2, 2)))\n",
    "#cnn5.add(Dropout(0.25))\n",
    "\n",
    "cnn6.add(Conv2D(32, kernel_size=(3, 3), activation='relu'))\n",
    "#cnn4.add(BatchNormalization())\n",
    "cnn6.add(MaxPooling2D(pool_size=(2, 2)))\n",
    "cnn6.add(Dropout(0.25))\n",
    "\n",
    "cnn6.add(Conv2D(64, kernel_size=(3, 3), activation='relu'))\n",
    "#cnn4.add(BatchNormalization())\n",
    "cnn6.add(Dropout(0.25))\n",
    "\n",
    "cnn6.add(Conv2D(128, kernel_size=(3, 3), activation='relu'))\n",
    "#cnn4.add(BatchNormalization())\n",
    "cnn6.add(MaxPooling2D(pool_size=(2, 2)))\n",
    "cnn6.add(Dropout(0.25))\n",
    "\n",
    "cnn6.add(Flatten())\n",
    "\n",
    "cnn6.add(Dense(512, activation='relu'))\n",
    "#cnn4.add(BatchNormalization())\n",
    "cnn6.add(Dropout(0.5))\n",
    "\n",
    "cnn6.add(Dense(128, activation='relu'))\n",
    "#cnn4.add(BatchNormalization())\n",
    "cnn6.add(Dropout(0.5))\n",
    "\n",
    "cnn6.add(Dense(24, activation='softmax'))\n",
    "\n",
    "cnn6.compile(loss=keras.losses.categorical_crossentropy,\n",
    "              optimizer=keras.optimizers.Adam(),\n",
    "              metrics=['accuracy'])"
   ]
  },
  {
   "cell_type": "code",
   "execution_count": 25,
   "metadata": {},
   "outputs": [
    {
     "name": "stdout",
     "output_type": "stream",
     "text": [
      "_________________________________________________________________\n",
      "Layer (type)                 Output Shape              Param #   \n",
      "=================================================================\n",
      "conv2d_14 (Conv2D)           (None, 26, 26, 16)        160       \n",
      "_________________________________________________________________\n",
      "conv2d_15 (Conv2D)           (None, 24, 24, 16)        2320      \n",
      "_________________________________________________________________\n",
      "conv2d_16 (Conv2D)           (None, 22, 22, 32)        4640      \n",
      "_________________________________________________________________\n",
      "conv2d_17 (Conv2D)           (None, 20, 20, 32)        9248      \n",
      "_________________________________________________________________\n",
      "max_pooling2d_8 (MaxPooling2 (None, 10, 10, 32)        0         \n",
      "_________________________________________________________________\n",
      "dropout_16 (Dropout)         (None, 10, 10, 32)        0         \n",
      "_________________________________________________________________\n",
      "conv2d_18 (Conv2D)           (None, 8, 8, 64)          18496     \n",
      "_________________________________________________________________\n",
      "dropout_17 (Dropout)         (None, 8, 8, 64)          0         \n",
      "_________________________________________________________________\n",
      "conv2d_19 (Conv2D)           (None, 6, 6, 128)         73856     \n",
      "_________________________________________________________________\n",
      "max_pooling2d_9 (MaxPooling2 (None, 3, 3, 128)         0         \n",
      "_________________________________________________________________\n",
      "dropout_18 (Dropout)         (None, 3, 3, 128)         0         \n",
      "_________________________________________________________________\n",
      "flatten_5 (Flatten)          (None, 1152)              0         \n",
      "_________________________________________________________________\n",
      "dense_11 (Dense)             (None, 512)               590336    \n",
      "_________________________________________________________________\n",
      "dropout_19 (Dropout)         (None, 512)               0         \n",
      "_________________________________________________________________\n",
      "dense_12 (Dense)             (None, 128)               65664     \n",
      "_________________________________________________________________\n",
      "dropout_20 (Dropout)         (None, 128)               0         \n",
      "_________________________________________________________________\n",
      "dense_13 (Dense)             (None, 24)                3096      \n",
      "=================================================================\n",
      "Total params: 767,816\n",
      "Trainable params: 767,816\n",
      "Non-trainable params: 0\n",
      "_________________________________________________________________\n"
     ]
    }
   ],
   "source": [
    "cnn6.summary()"
   ]
  },
  {
   "cell_type": "code",
   "execution_count": 26,
   "metadata": {},
   "outputs": [
    {
     "name": "stdout",
     "output_type": "stream",
     "text": [
      "Train on 19218 samples, validate on 8237 samples\n",
      "Epoch 1/10\n",
      "19218/19218 [==============================] - 38s 2ms/step - loss: 2.9823 - acc: 0.1001 - val_loss: 2.2221 - val_acc: 0.3190\n",
      "Epoch 2/10\n",
      "19218/19218 [==============================] - 37s 2ms/step - loss: 1.8150 - acc: 0.4131 - val_loss: 0.8796 - val_acc: 0.7232\n",
      "Epoch 3/10\n",
      "19218/19218 [==============================] - 37s 2ms/step - loss: 0.9345 - acc: 0.6831 - val_loss: 0.3589 - val_acc: 0.8916\n",
      "Epoch 4/10\n",
      "19218/19218 [==============================] - 38s 2ms/step - loss: 0.5413 - acc: 0.8093 - val_loss: 0.1340 - val_acc: 0.9659\n",
      "Epoch 5/10\n",
      "19218/19218 [==============================] - 37s 2ms/step - loss: 0.3648 - acc: 0.8766 - val_loss: 0.0744 - val_acc: 0.9870\n",
      "Epoch 6/10\n",
      "19218/19218 [==============================] - 37s 2ms/step - loss: 0.2339 - acc: 0.9224 - val_loss: 0.0253 - val_acc: 0.9983\n",
      "Epoch 7/10\n",
      "19218/19218 [==============================] - 37s 2ms/step - loss: 0.1800 - acc: 0.9400 - val_loss: 0.0175 - val_acc: 0.9982\n",
      "Epoch 8/10\n",
      "19218/19218 [==============================] - 37s 2ms/step - loss: 0.1542 - acc: 0.9486 - val_loss: 0.0058 - val_acc: 0.9994\n",
      "Epoch 9/10\n",
      "19218/19218 [==============================] - 37s 2ms/step - loss: 0.1065 - acc: 0.9653 - val_loss: 0.0030 - val_acc: 1.0000\n",
      "Epoch 10/10\n",
      "19218/19218 [==============================] - 37s 2ms/step - loss: 0.0833 - acc: 0.9732 - val_loss: 0.0049 - val_acc: 0.9995\n",
      "--- 371.43728041648865 seconds ---\n"
     ]
    }
   ],
   "source": [
    "start_time = time.time()\n",
    "history5 = cnn6.fit(X_train, y_train,\n",
    "          batch_size=256,\n",
    "          epochs=10,\n",
    "          verbose=1,\n",
    "          validation_data=(X_val, y_val))\n",
    "print(\"--- %s seconds ---\" % (time.time() - start_time))\n",
    "time_arr.append(time.time() - start_time)"
   ]
  },
  {
   "cell_type": "code",
   "execution_count": 27,
   "metadata": {},
   "outputs": [
    {
     "name": "stdout",
     "output_type": "stream",
     "text": [
      "Test loss: 0.2012669712952268\n",
      "Test accuracy: 0.9408812046848857\n"
     ]
    }
   ],
   "source": [
    "score5 = cnn6.evaluate(X_test, y_test, verbose=0)\n",
    "print('Test loss:', score5[0])\n",
    "print('Test accuracy:', score5[1])"
   ]
  },
  {
   "cell_type": "code",
   "execution_count": null,
   "metadata": {},
   "outputs": [],
   "source": []
  },
  {
   "cell_type": "code",
   "execution_count": 28,
   "metadata": {},
   "outputs": [],
   "source": [
    "import matplotlib.pyplot as plt"
   ]
  },
  {
   "cell_type": "code",
   "execution_count": 29,
   "metadata": {},
   "outputs": [
    {
     "data": {
      "image/png": "[encoded data removed]",
      "text/plain": [
       "<Figure size 432x288 with 1 Axes>"
      ]
     },
     "metadata": {
      "needs_background": "light"
     },
     "output_type": "display_data"
    }
   ],
   "source": [
    "plt.plot(history4.history['acc'])\n",
    "plt.plot(history4.history['val_acc'])\n",
    "plt.title(\"Accuracy\")\n",
    "plt.xlabel('epoch')\n",
    "plt.ylabel('accuracy')\n",
    "plt.legend(['train','test'])\n",
    "plt.show()"
   ]
  },
  {
   "cell_type": "code",
   "execution_count": 30,
   "metadata": {},
   "outputs": [],
   "source": [
    "array_score = []\n",
    "array_loss = []\n",
    "array_time = []"
   ]
  },
  {
   "cell_type": "code",
   "execution_count": 31,
   "metadata": {},
   "outputs": [],
   "source": [
    "array_score.append(score1[1])\n",
    "array_score.append(score2[1])\n",
    "array_score.append(score3[1])\n",
    "array_score.append(score4[1])\n",
    "array_score.append(score5[1])"
   ]
  },
  {
   "cell_type": "code",
   "execution_count": 32,
   "metadata": {},
   "outputs": [],
   "source": [
    "array_loss.append(score1[0])\n",
    "array_loss.append(score2[0])\n",
    "array_loss.append(score3[0])\n",
    "array_loss.append(score4[0])\n",
    "array_loss.append(score5[0])"
   ]
  },
  {
   "cell_type": "code",
   "execution_count": 33,
   "metadata": {},
   "outputs": [],
   "source": [
    "array_time.append(time_arr[0])\n",
    "array_time.append(time_arr[1])\n",
    "array_time.append(time_arr[2])\n",
    "array_time.append(time_arr[3])\n",
    "array_time.append(time_arr[4])"
   ]
  },
  {
   "cell_type": "code",
   "execution_count": 34,
   "metadata": {},
   "outputs": [],
   "source": [
    "inc_arr = []"
   ]
  },
  {
   "cell_type": "code",
   "execution_count": 35,
   "metadata": {},
   "outputs": [],
   "source": [
    "inc_arr.append(1)\n",
    "inc_arr.append(2)\n",
    "inc_arr.append(3)\n",
    "inc_arr.append(4)"
   ]
  },
  {
   "cell_type": "code",
   "execution_count": 36,
   "metadata": {},
   "outputs": [
    {
     "data": {
      "image/png": "[encoded data removed]",
      "text/plain": [
       "<Figure size 432x288 with 1 Axes>"
      ]
     },
     "metadata": {
      "needs_background": "light"
     },
     "output_type": "display_data"
    }
   ],
   "source": [
    "plt.plot(array_score)\n",
    "#plt.plot(array_loss)\n",
    "plt.title(\"Accuracy Comparison\")\n",
    "plt.xticks(inc_arr)\n",
    "plt.xlabel('scenarios')\n",
    "plt.ylabel('accuracy')\n",
    "plt.legend(['accuracy'])#,'loss'])\n",
    "plt.show()"
   ]
  },
  {
   "cell_type": "code",
   "execution_count": 37,
   "metadata": {},
   "outputs": [
    {
     "data": {
      "image/png": "[encoded data removed]",
      "text/plain": [
       "<Figure size 432x288 with 1 Axes>"
      ]
     },
     "metadata": {
      "needs_background": "light"
     },
     "output_type": "display_data"
    }
   ],
   "source": [
    "#plt.plot(array_score)dasdasd\n",
    "plt.plot(array_loss)\n",
    "plt.title(\"Loss Comparison\")\n",
    "plt.xticks(inc_arr)\n",
    "plt.xlabel('scenarios')\n",
    "plt.ylabel('accuracy')\n",
    "plt.legend(['loss'])#,'loss'])\n",
    "plt.show()"
   ]
  },
  {
   "cell_type": "code",
   "execution_count": 38,
   "metadata": {},
   "outputs": [
    {
     "data": {
      "image/png": "[encoded data removed]",
      "text/plain": [
       "<Figure size 432x288 with 1 Axes>"
      ]
     },
     "metadata": {
      "needs_background": "light"
     },
     "output_type": "display_data"
    }
   ],
   "source": [
    "#plt.plot(array_score)\n",
    "plt.plot(array_time)\n",
    "plt.title(\"Time Comparison\")\n",
    "plt.xticks(inc_arr)\n",
    "plt.xlabel('scenarios')\n",
    "plt.ylabel('seconds')\n",
    "plt.legend(['time'])#,'loss'])\n",
    "plt.show()"
   ]
  },
  {
   "cell_type": "code",
   "execution_count": 39,
   "metadata": {},
   "outputs": [
    {
     "data": {
      "text/plain": [
       "[83.05527353286743,\n",
       " 133.02156853675842,\n",
       " 355.5864610671997,\n",
       " 380.7076518535614,\n",
       " 371.43728041648865]"
      ]
     },
     "execution_count": 39,
     "metadata": {},
     "output_type": "execute_result"
    }
   ],
   "source": [
    "time_arr"
   ]
  },
  {
   "cell_type": "code",
   "execution_count": 40,
   "metadata": {},
   "outputs": [
    {
     "data": {
      "text/plain": [
       "[0.8377021751254881,\n",
       " 0.954824316787507,\n",
       " 0.9592861126603458,\n",
       " 0.9530117122141663,\n",
       " 0.9408812046848857]"
      ]
     },
     "execution_count": 40,
     "metadata": {},
     "output_type": "execute_result"
    }
   ],
   "source": [
    "array_score"
   ]
  },
  {
   "cell_type": "code",
   "execution_count": 41,
   "metadata": {},
   "outputs": [
    {
     "data": {
      "text/plain": [
       "[0.5852553726314701,\n",
       " 0.16934845983001418,\n",
       " 0.14766053988847155,\n",
       " 0.19024539503455207,\n",
       " 0.2012669712952268]"
      ]
     },
     "execution_count": 41,
     "metadata": {},
     "output_type": "execute_result"
    }
   ],
   "source": [
    "array_loss"
   ]
  },
  {
   "cell_type": "code",
   "execution_count": null,
   "metadata": {},
   "outputs": [],
   "source": []
  }
 ],
 "metadata": {
  "kernelspec": {
   "display_name": "Python 3",
   "language": "python",
   "name": "python3"
  },
  "language_info": {
   "codemirror_mode": {
    "name": "ipython",
    "version": 3
   },
   "file_extension": ".py",
   "mimetype": "text/x-python",
   "name": "python",
   "nbconvert_exporter": "python",
   "pygments_lexer": "ipython3",
   "version": "3.7.1"
  }
 },
 "nbformat": 4,
 "nbformat_minor": 2
}
