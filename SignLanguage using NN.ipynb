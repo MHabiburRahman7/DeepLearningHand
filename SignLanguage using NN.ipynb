{
 "cells": [
  {
   "cell_type": "code",
   "execution_count": 22,
   "metadata": {},
   "outputs": [],
   "source": [
    "import numpy as np\n",
    "import pandas as pd\n",
    "import tensorflow as tf\n",
    "import matplotlib.pyplot as plt\n",
    "import time"
   ]
  },
  {
   "cell_type": "code",
   "execution_count": 2,
   "metadata": {},
   "outputs": [
    {
     "name": "stdout",
     "output_type": "stream",
     "text": [
      "Dataframe Shape: (27455, 785)\n"
     ]
    }
   ],
   "source": [
    "ori_data = pd.read_csv('Dataset/sign_mnist_train.csv')\n",
    "print('Dataframe Shape:', ori_data.shape)"
   ]
  },
  {
   "cell_type": "code",
   "execution_count": 3,
   "metadata": {},
   "outputs": [
    {
     "name": "stdout",
     "output_type": "stream",
     "text": [
      "Feature matrix:\n",
      " [[107 118 127 ... 204 203 202]\n",
      " [155 157 156 ... 103 135 149]\n",
      " [187 188 188 ... 195 194 195]\n",
      " ...\n",
      " [174 174 174 ... 202 200 200]\n",
      " [177 181 184 ...  64  87  93]\n",
      " [179 180 180 ... 205 209 215]]\n",
      "Shape of Feature matrix: (27455, 784)\n"
     ]
    }
   ],
   "source": [
    "x = ori_data.iloc[:, 1:].values\n",
    "print('Feature matrix:\\n', x)\n",
    "print('Shape of Feature matrix:', x.shape)"
   ]
  },
  {
   "cell_type": "code",
   "execution_count": 4,
   "metadata": {},
   "outputs": [
    {
     "name": "stdout",
     "output_type": "stream",
     "text": [
      "Labels:\n",
      " [ 3  6  2 ... 18 17 23]\n",
      "Shape of Labels: (27455,)\n"
     ]
    }
   ],
   "source": [
    "y = ori_data.iloc[:, :1].values.flatten()\n",
    "print('Labels:\\n', y)\n",
    "print('Shape of Labels:', y.shape)"
   ]
  },
  {
   "cell_type": "code",
   "execution_count": 5,
   "metadata": {},
   "outputs": [],
   "source": [
    "def display(index):\n",
    "    plt.imshow(x[index].reshape(28, 28), cmap = 'gray')\n",
    "    plt.title(str(y[index]))\n",
    "    plt.show()"
   ]
  },
  {
   "cell_type": "code",
   "execution_count": 6,
   "metadata": {},
   "outputs": [
    {
     "name": "stdout",
     "output_type": "stream",
     "text": [
      "Shape of y after encoding: (27455, 25)\n"
     ]
    }
   ],
   "source": [
    "def one_hot_encode(y):\n",
    "    return np.eye(25)[y]\n",
    "y_encoded = one_hot_encode(y)\n",
    "print('Shape of y after encoding:', y_encoded.shape)"
   ]
  },
  {
   "cell_type": "code",
   "execution_count": 17,
   "metadata": {},
   "outputs": [],
   "source": [
    "# Hyperparameters\n",
    "learning_rate = 0.001\n",
    "batch_size = 128\n",
    "epochs = 10000 \n",
    "display_step = 500"
   ]
  },
  {
   "cell_type": "code",
   "execution_count": 8,
   "metadata": {},
   "outputs": [],
   "source": [
    "# Network Hyperparameters\n",
    "n_inputs = 784\n",
    "nh1 = 256\n",
    "nh2 = 256\n",
    "nh3 = 256\n",
    "nh4 = 256\n",
    "nh5 = 256\n",
    "n_outputs = 25"
   ]
  },
  {
   "cell_type": "code",
   "execution_count": 9,
   "metadata": {},
   "outputs": [],
   "source": [
    "X = tf.placeholder('float', [None, n_inputs])\n",
    "Y = tf.placeholder('float', [None, n_outputs])"
   ]
  },
  {
   "cell_type": "code",
   "execution_count": 10,
   "metadata": {},
   "outputs": [
    {
     "name": "stdout",
     "output_type": "stream",
     "text": [
      "WARNING:tensorflow:From C:\\ProgramData\\Anaconda3\\lib\\site-packages\\tensorflow\\python\\framework\\op_def_library.py:263: colocate_with (from tensorflow.python.framework.ops) is deprecated and will be removed in a future version.\n",
      "Instructions for updating:\n",
      "Colocations handled automatically by placer.\n"
     ]
    }
   ],
   "source": [
    "weights = {\n",
    "    'w1' : tf.Variable(tf.random_normal([n_inputs, nh1])),\n",
    "    'w2' : tf.Variable(tf.random_normal([nh1, nh2])),\n",
    "    'w3' : tf.Variable(tf.random_normal([nh2, nh3])),\n",
    "    'w4' : tf.Variable(tf.random_normal([nh3, nh4])),\n",
    "    'w5' : tf.Variable(tf.random_normal([nh4, nh5])),\n",
    "    'out_w' : tf.Variable(tf.random_normal([nh5, n_outputs]))\n",
    "}"
   ]
  },
  {
   "cell_type": "code",
   "execution_count": 11,
   "metadata": {},
   "outputs": [],
   "source": [
    "biases = {\n",
    "    'b1' : tf.Variable(tf.random_normal([nh1])),\n",
    "    'b2' : tf.Variable(tf.random_normal([nh2])),\n",
    "    'b3' : tf.Variable(tf.random_normal([nh3])),\n",
    "    'b4' : tf.Variable(tf.random_normal([nh4])),\n",
    "    'b5' : tf.Variable(tf.random_normal([nh5])),\n",
    "    'out_b' : tf.Variable(tf.random_normal([n_outputs]))\n",
    "}"
   ]
  },
  {
   "cell_type": "code",
   "execution_count": 12,
   "metadata": {},
   "outputs": [],
   "source": [
    "def neural_network(x, weights, biases):\n",
    "    layer1 = tf.nn.relu(tf.add(tf.matmul(x, weights['w1']), biases['b1']))\n",
    "    layer2 = tf.nn.relu(tf.add(tf.matmul(layer1, weights['w2']), biases['b2']))\n",
    "    layer3 = tf.nn.relu(tf.add(tf.matmul(layer2, weights['w3']), biases['b3']))\n",
    "    layer4 = tf.nn.relu(tf.add(tf.matmul(layer3, weights['w4']), biases['b4']))\n",
    "    layer5 = tf.nn.relu(tf.add(tf.matmul(layer4, weights['w5']), biases['b5']))\n",
    "    layer_out = tf.matmul(layer5, weights['out_w']) + biases['out_b']\n",
    "    return layer_out"
   ]
  },
  {
   "cell_type": "code",
   "execution_count": 13,
   "metadata": {},
   "outputs": [
    {
     "name": "stdout",
     "output_type": "stream",
     "text": [
      "WARNING:tensorflow:From <ipython-input-13-fe8bbbb9b1e8>:3: softmax_cross_entropy_with_logits (from tensorflow.python.ops.nn_ops) is deprecated and will be removed in a future version.\n",
      "Instructions for updating:\n",
      "\n",
      "Future major versions of TensorFlow will allow gradients to flow\n",
      "into the labels input on backprop by default.\n",
      "\n",
      "See `tf.nn.softmax_cross_entropy_with_logits_v2`.\n",
      "\n"
     ]
    }
   ],
   "source": [
    "logits = neural_network(X, weights, biases)\n",
    "\n",
    "loss_op = tf.reduce_mean(tf.nn.softmax_cross_entropy_with_logits(logits = logits, labels = Y))\n",
    "\n",
    "optimizer = tf.train.AdamOptimizer(learning_rate = learning_rate)\n",
    "training_op = optimizer.minimize(loss_op)\n",
    "\n",
    "correct_pred = tf.equal(tf.argmax(logits, 1), tf.argmax(Y, 1))\n",
    "accuracy = tf.reduce_mean(tf.cast(correct_pred, tf.float32))"
   ]
  },
  {
   "cell_type": "code",
   "execution_count": 14,
   "metadata": {},
   "outputs": [],
   "source": [
    "init = tf.global_variables_initializer()"
   ]
  },
  {
   "cell_type": "code",
   "execution_count": 15,
   "metadata": {},
   "outputs": [],
   "source": [
    "def next_batch(batch_size, data, labels):\n",
    "    idx = np.arange(0, len(data))\n",
    "    np.random.shuffle(idx)\n",
    "    idx = idx[: batch_size]\n",
    "    data_shuffle = [data[i] for i in idx]\n",
    "    labels_shuffle = [labels[i] for i in idx]\n",
    "    return np.asarray(data_shuffle), np.asarray(labels_shuffle)"
   ]
  },
  {
   "cell_type": "code",
   "execution_count": 29,
   "metadata": {},
   "outputs": [
    {
     "name": "stdout",
     "output_type": "stream",
     "text": [
      "Epoch 500, Cost: 9527250.0, Accuracy: 0.6796875, time spent: 1557193700.475534\n",
      "Epoch 1000, Cost: 1763813.5, Accuracy: 0.890625, time spent: 9.897970199584961\n",
      "Epoch 1500, Cost: 211689.94, Accuracy: 0.96875, time spent: 14.695969820022583\n",
      "Epoch 2000, Cost: 63841.188, Accuracy: 0.9921875, time spent: 19.70696997642517\n",
      "Epoch 2500, Cost: 23028.812, Accuracy: 0.984375, time spent: 24.79097032546997\n",
      "Epoch 3000, Cost: 242357.47, Accuracy: 0.984375, time spent: 29.743969440460205\n",
      "Epoch 3500, Cost: 34277.688, Accuracy: 0.9921875, time spent: 34.678969860076904\n",
      "Epoch 4000, Cost: 129197.44, Accuracy: 0.984375, time spent: 39.42696952819824\n",
      "Epoch 4500, Cost: 0.0, Accuracy: 1.0, time spent: 44.58797001838684\n",
      "Epoch 5000, Cost: 284513.7, Accuracy: 0.984375, time spent: 50.882970333099365\n",
      "Epoch 5500, Cost: 34623.938, Accuracy: 0.9921875, time spent: 56.26097011566162\n",
      "Epoch 6000, Cost: 0.0, Accuracy: 1.0, time spent: 61.71197009086609\n",
      "Epoch 6500, Cost: 28424.938, Accuracy: 0.9921875, time spent: 66.73797011375427\n",
      "Epoch 7000, Cost: 59896.812, Accuracy: 0.9921875, time spent: 72.79596948623657\n",
      "Epoch 7500, Cost: 0.0, Accuracy: 1.0, time spent: 78.8699700832367\n",
      "Epoch 8000, Cost: 0.0, Accuracy: 1.0, time spent: 84.33897137641907\n",
      "Epoch 8500, Cost: 0.0, Accuracy: 1.0, time spent: 89.73296976089478\n",
      "Epoch 9000, Cost: 0.0, Accuracy: 1.0, time spent: 95.1629695892334\n",
      "Epoch 9500, Cost: 112956.125, Accuracy: 0.984375, time spent: 100.1269690990448\n",
      "Epoch 10000, Cost: 54598.562, Accuracy: 0.9921875, time spent: 105.34197211265564\n",
      "Accuracy on train data: 99.47550296783447 %\n",
      "time spent: 105.8889696598053\n"
     ]
    }
   ],
   "source": [
    "start_time = time.time();\n",
    "last_time = 0;\n",
    "with tf.Session() as sess:\n",
    "    \n",
    "    sess.run(init)\n",
    "    \n",
    "    cost_hist, acc_hist = [], []\n",
    "    \n",
    "    for epoch in range(1, epochs + 1):\n",
    "        batch_x, batch_y = next_batch(batch_size, x, y_encoded)\n",
    "        \n",
    "        sess.run(training_op, feed_dict = { X : batch_x, Y : batch_y })\n",
    "        \n",
    "        if epoch % display_step == 0:\n",
    "            c, acc = sess.run([loss_op, accuracy], feed_dict = { X : batch_x, Y : batch_y })\n",
    "            cost_hist.append(c)\n",
    "            acc_hist.append(acc)\n",
    "            #print('Epoch ' + str(epoch) + ', Cost: ' + str(c) + ', Accuracy: ' + str(acc) + ', time spent: '+ str((time.time() - start_time)))\n",
    "            if last_time != 0:\n",
    "                print('Epoch ' + str(epoch) + ', Cost: ' + str(c) + ', Accuracy: ' + str(acc) + ', time spent: '+ str((time.time() - start_time)))\n",
    "            else:\n",
    "                print('Epoch ' + str(epoch) + ', Cost: ' + str(c) + ', Accuracy: ' + str(acc) + ', time spent: '+ str((time.time() - last_time)))\n",
    "                \n",
    "            last_time = time.time();\n",
    "    \n",
    "    W = sess.run(weights)\n",
    "    B = sess.run(biases)\n",
    "    print('Accuracy on train data: ' + str(sess.run(accuracy, feed_dict = { X : x, Y : y_encoded }) * 100) + ' %')\n",
    "    print('time spent: '+ str((time.time() - start_time)))"
   ]
  },
  {
   "cell_type": "code",
   "execution_count": 30,
   "metadata": {},
   "outputs": [
    {
     "data": {
      "image/png": "[encoded data removed]",
      "text/plain": [
       "<Figure size 432x288 with 1 Axes>"
      ]
     },
     "metadata": {
      "needs_background": "light"
     },
     "output_type": "display_data"
    }
   ],
   "source": [
    "plt.plot(list(range(len(cost_hist))), cost_hist)\n",
    "plt.title(\"Change in cost\")\n",
    "plt.show()"
   ]
  },
  {
   "cell_type": "code",
   "execution_count": 31,
   "metadata": {},
   "outputs": [
    {
     "data": {
      "image/png": "[encoded data removed]",
      "text/plain": [
       "<Figure size 432x288 with 1 Axes>"
      ]
     },
     "metadata": {
      "needs_background": "light"
     },
     "output_type": "display_data"
    }
   ],
   "source": [
    "plt.plot(list(range(len(acc_hist))), acc_hist)\n",
    "plt.title(\"Change in accuracy\")\n",
    "plt.show()"
   ]
  },
  {
   "cell_type": "code",
   "execution_count": null,
   "metadata": {},
   "outputs": [],
   "source": []
  }
 ],
 "metadata": {
  "kernelspec": {
   "display_name": "Python 3",
   "language": "python",
   "name": "python3"
  },
  "language_info": {
   "codemirror_mode": {
    "name": "ipython",
    "version": 3
   },
   "file_extension": ".py",
   "mimetype": "text/x-python",
   "name": "python",
   "nbconvert_exporter": "python",
   "pygments_lexer": "ipython3",
   "version": "3.7.1"
  }
 },
 "nbformat": 4,
 "nbformat_minor": 2
}
