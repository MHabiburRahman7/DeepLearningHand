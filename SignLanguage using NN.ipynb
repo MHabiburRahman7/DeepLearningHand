{
 "cells": [
  {
   "cell_type": "code",
   "execution_count": 1,
   "metadata": {},
   "outputs": [],
   "source": [
    "import numpy as np\n",
    "import pandas as pd\n",
    "import tensorflow as tf\n",
    "import matplotlib.pyplot as plt\n",
    "import time"
   ]
  },
  {
   "cell_type": "code",
   "execution_count": 2,
   "metadata": {},
   "outputs": [
    {
     "name": "stdout",
     "output_type": "stream",
     "text": [
      "Dataframe Shape: (27455, 785)\n"
     ]
    }
   ],
   "source": [
    "ori_data = pd.read_csv('Dataset/sign_mnist_train.csv')\n",
    "print('Dataframe Shape:', ori_data.shape)"
   ]
  },
  {
   "cell_type": "code",
   "execution_count": 3,
   "metadata": {},
   "outputs": [
    {
     "name": "stdout",
     "output_type": "stream",
     "text": [
      "Feature matrix:\n",
      " [[107 118 127 ... 204 203 202]\n",
      " [155 157 156 ... 103 135 149]\n",
      " [187 188 188 ... 195 194 195]\n",
      " ...\n",
      " [174 174 174 ... 202 200 200]\n",
      " [177 181 184 ...  64  87  93]\n",
      " [179 180 180 ... 205 209 215]]\n",
      "Shape of Feature matrix: (27455, 784)\n"
     ]
    }
   ],
   "source": [
    "x = ori_data.iloc[:, 1:].values\n",
    "print('Feature matrix:\\n', x)\n",
    "print('Shape of Feature matrix:', x.shape)"
   ]
  },
  {
   "cell_type": "code",
   "execution_count": 4,
   "metadata": {},
   "outputs": [
    {
     "name": "stdout",
     "output_type": "stream",
     "text": [
      "Labels:\n",
      " [ 3  6  2 ... 18 17 23]\n",
      "Shape of Labels: (27455,)\n"
     ]
    }
   ],
   "source": [
    "y = ori_data.iloc[:, :1].values.flatten()\n",
    "print('Labels:\\n', y)\n",
    "print('Shape of Labels:', y.shape)"
   ]
  },
  {
   "cell_type": "code",
   "execution_count": 5,
   "metadata": {},
   "outputs": [],
   "source": [
    "def display(index):\n",
    "    plt.imshow(x[index].reshape(28, 28), cmap = 'gray')\n",
    "    plt.title(str(y[index]))\n",
    "    plt.show()"
   ]
  },
  {
   "cell_type": "code",
   "execution_count": 6,
   "metadata": {},
   "outputs": [
    {
     "name": "stdout",
     "output_type": "stream",
     "text": [
      "Shape of y after encoding: (27455, 25)\n"
     ]
    }
   ],
   "source": [
    "def one_hot_encode(y):\n",
    "    return np.eye(25)[y]\n",
    "y_encoded = one_hot_encode(y)\n",
    "print('Shape of y after encoding:', y_encoded.shape)"
   ]
  },
  {
   "cell_type": "code",
   "execution_count": 7,
   "metadata": {},
   "outputs": [],
   "source": [
    "# Hyperparameters\n",
    "learning_rate = 0.001\n",
    "batch_size = 128\n",
    "epochs = 10000 \n",
    "display_step = 500"
   ]
  },
  {
   "cell_type": "code",
   "execution_count": 8,
   "metadata": {},
   "outputs": [],
   "source": [
    "# Network Hyperparameters\n",
    "n_inputs = 784\n",
    "nh1 = 256\n",
    "nh2 = 256\n",
    "nh3 = 256\n",
    "nh4 = 256\n",
    "nh5 = 256\n",
    "n_outputs = 25"
   ]
  },
  {
   "cell_type": "code",
   "execution_count": 9,
   "metadata": {},
   "outputs": [],
   "source": [
    "X = tf.placeholder('float', [None, n_inputs])\n",
    "Y = tf.placeholder('float', [None, n_outputs])"
   ]
  },
  {
   "cell_type": "code",
   "execution_count": 10,
   "metadata": {},
   "outputs": [
    {
     "name": "stdout",
     "output_type": "stream",
     "text": [
      "WARNING:tensorflow:From C:\\Users\\Ali\\anaconda3\\envs\\tensorflow\\lib\\site-packages\\tensorflow\\python\\framework\\op_def_library.py:263: colocate_with (from tensorflow.python.framework.ops) is deprecated and will be removed in a future version.\n",
      "Instructions for updating:\n",
      "Colocations handled automatically by placer.\n"
     ]
    }
   ],
   "source": [
    "weights = {\n",
    "    'w1' : tf.Variable(tf.random_normal([n_inputs, nh1])),\n",
    "    'w2' : tf.Variable(tf.random_normal([nh1, nh2])),\n",
    "    'w3' : tf.Variable(tf.random_normal([nh2, nh3])),\n",
    "    'w4' : tf.Variable(tf.random_normal([nh3, nh4])),\n",
    "    'w5' : tf.Variable(tf.random_normal([nh4, nh5])),\n",
    "    'out_w' : tf.Variable(tf.random_normal([nh5, n_outputs]))\n",
    "}"
   ]
  },
  {
   "cell_type": "code",
   "execution_count": 11,
   "metadata": {},
   "outputs": [],
   "source": [
    "biases = {\n",
    "    'b1' : tf.Variable(tf.random_normal([nh1])),\n",
    "    'b2' : tf.Variable(tf.random_normal([nh2])),\n",
    "    'b3' : tf.Variable(tf.random_normal([nh3])),\n",
    "    'b4' : tf.Variable(tf.random_normal([nh4])),\n",
    "    'b5' : tf.Variable(tf.random_normal([nh5])),\n",
    "    'out_b' : tf.Variable(tf.random_normal([n_outputs]))\n",
    "}"
   ]
  },
  {
   "cell_type": "code",
   "execution_count": 12,
   "metadata": {},
   "outputs": [],
   "source": [
    "def neural_network(x, weights, biases):\n",
    "    layer1 = tf.nn.relu(tf.add(tf.matmul(x, weights['w1']), biases['b1']))\n",
    "    layer2 = tf.nn.relu(tf.add(tf.matmul(layer1, weights['w2']), biases['b2']))\n",
    "    layer3 = tf.nn.relu(tf.add(tf.matmul(layer2, weights['w3']), biases['b3']))\n",
    "    layer4 = tf.nn.relu(tf.add(tf.matmul(layer3, weights['w4']), biases['b4']))\n",
    "    layer5 = tf.nn.relu(tf.add(tf.matmul(layer4, weights['w5']), biases['b5']))\n",
    "    layer_out = tf.matmul(layer5, weights['out_w']) + biases['out_b']\n",
    "    return layer_out"
   ]
  },
  {
   "cell_type": "code",
   "execution_count": 13,
   "metadata": {},
   "outputs": [
    {
     "name": "stdout",
     "output_type": "stream",
     "text": [
      "WARNING:tensorflow:From <ipython-input-13-fe8bbbb9b1e8>:3: softmax_cross_entropy_with_logits (from tensorflow.python.ops.nn_ops) is deprecated and will be removed in a future version.\n",
      "Instructions for updating:\n",
      "\n",
      "Future major versions of TensorFlow will allow gradients to flow\n",
      "into the labels input on backprop by default.\n",
      "\n",
      "See `tf.nn.softmax_cross_entropy_with_logits_v2`.\n",
      "\n"
     ]
    }
   ],
   "source": [
    "logits = neural_network(X, weights, biases)\n",
    "\n",
    "loss_op = tf.reduce_mean(tf.nn.softmax_cross_entropy_with_logits(logits = logits, labels = Y))\n",
    "\n",
    "optimizer = tf.train.AdamOptimizer(learning_rate = learning_rate)\n",
    "training_op = optimizer.minimize(loss_op)\n",
    "\n",
    "correct_pred = tf.equal(tf.argmax(logits, 1), tf.argmax(Y, 1))\n",
    "accuracy = tf.reduce_mean(tf.cast(correct_pred, tf.float32))"
   ]
  },
  {
   "cell_type": "code",
   "execution_count": 14,
   "metadata": {},
   "outputs": [],
   "source": [
    "init = tf.global_variables_initializer()"
   ]
  },
  {
   "cell_type": "code",
   "execution_count": 15,
   "metadata": {},
   "outputs": [],
   "source": [
    "def next_batch(batch_size, data, labels):\n",
    "    idx = np.arange(0, len(data))\n",
    "    np.random.shuffle(idx)\n",
    "    idx = idx[: batch_size]\n",
    "    data_shuffle = [data[i] for i in idx]\n",
    "    labels_shuffle = [labels[i] for i in idx]\n",
    "    return np.asarray(data_shuffle), np.asarray(labels_shuffle)"
   ]
  },
  {
   "cell_type": "code",
   "execution_count": 16,
   "metadata": {},
   "outputs": [
    {
     "name": "stdout",
     "output_type": "stream",
     "text": [
      "Epoch 500, Cost: 12179082.0, Accuracy: 0.6328125, time spent: 1557817807.8294942\n",
      "Epoch 1000, Cost: 3249961.5, Accuracy: 0.8046875, time spent: 7.377263307571411\n",
      "Epoch 1500, Cost: 332113.0, Accuracy: 0.96875, time spent: 10.834015607833862\n",
      "Epoch 2000, Cost: 107374.25, Accuracy: 0.96875, time spent: 14.342628717422485\n",
      "Epoch 2500, Cost: 219820.62, Accuracy: 0.9921875, time spent: 17.92205262184143\n",
      "Epoch 3000, Cost: 263812.12, Accuracy: 0.984375, time spent: 21.441636562347412\n",
      "Epoch 3500, Cost: 0.0, Accuracy: 1.0, time spent: 25.20756196975708\n",
      "Epoch 4000, Cost: 52168.25, Accuracy: 0.984375, time spent: 28.96351408958435\n",
      "Epoch 4500, Cost: 0.0, Accuracy: 1.0, time spent: 32.673587799072266\n",
      "Epoch 5000, Cost: 34689.75, Accuracy: 0.9921875, time spent: 36.41557717323303\n",
      "Epoch 5500, Cost: 0.0, Accuracy: 1.0, time spent: 40.04785919189453\n",
      "Epoch 6000, Cost: 0.0, Accuracy: 1.0, time spent: 43.61332082748413\n",
      "Epoch 6500, Cost: 0.0, Accuracy: 1.0, time spent: 47.18277168273926\n",
      "Epoch 7000, Cost: 118499.5, Accuracy: 0.9921875, time spent: 50.83998680114746\n",
      "Epoch 7500, Cost: 25466.875, Accuracy: 0.9921875, time spent: 54.39946508407593\n",
      "Epoch 8000, Cost: 331636.0, Accuracy: 0.9921875, time spent: 58.0995659828186\n",
      "Epoch 8500, Cost: 33381.375, Accuracy: 0.9921875, time spent: 61.67799258232117\n",
      "Epoch 9000, Cost: 0.0, Accuracy: 1.0, time spent: 65.45688319206238\n",
      "Epoch 9500, Cost: 0.0, Accuracy: 1.0, time spent: 69.0373044013977\n",
      "Epoch 10000, Cost: 143160.38, Accuracy: 0.984375, time spent: 72.67457342147827\n",
      "Accuracy on train data: 97.44673371315002 %\n",
      "time spent: 73.02363872528076\n"
     ]
    }
   ],
   "source": [
    "start_time = time.time();\n",
    "last_time = 0;\n",
    "with tf.Session() as sess:\n",
    "    \n",
    "    sess.run(init)\n",
    "    \n",
    "    cost_hist, acc_hist = [], []\n",
    "    \n",
    "    for epoch in range(1, epochs + 1):\n",
    "        batch_x, batch_y = next_batch(batch_size, x, y_encoded)\n",
    "        \n",
    "        sess.run(training_op, feed_dict = { X : batch_x, Y : batch_y })\n",
    "        \n",
    "        if epoch % display_step == 0:\n",
    "            c, acc = sess.run([loss_op, accuracy], feed_dict = { X : batch_x, Y : batch_y })\n",
    "            cost_hist.append(c)\n",
    "            acc_hist.append(acc)\n",
    "            #print('Epoch ' + str(epoch) + ', Cost: ' + str(c) + ', Accuracy: ' + str(acc) + ', time spent: '+ str((time.time() - start_time)))\n",
    "            if last_time != 0:\n",
    "                print('Epoch ' + str(epoch) + ', Cost: ' + str(c) + ', Accuracy: ' + str(acc) + ', time spent: '+ str((time.time() - start_time)))\n",
    "            else:\n",
    "                print('Epoch ' + str(epoch) + ', Cost: ' + str(c) + ', Accuracy: ' + str(acc) + ', time spent: '+ str((time.time() - last_time)))\n",
    "                \n",
    "            last_time = time.time();\n",
    "    \n",
    "    W = sess.run(weights)\n",
    "    B = sess.run(biases)\n",
    "    print('Accuracy on train data: ' + str(sess.run(accuracy, feed_dict = { X : x, Y : y_encoded }) * 100) + ' %')\n",
    "    print('time spent: '+ str((time.time() - start_time)))"
   ]
  },
  {
   "cell_type": "code",
   "execution_count": 17,
   "metadata": {},
   "outputs": [
    {
     "data": {
      "image/png": "[encoded data removed]",
      "text/plain": [
       "<Figure size 432x288 with 1 Axes>"
      ]
     },
     "metadata": {
      "needs_background": "light"
     },
     "output_type": "display_data"
    }
   ],
   "source": [
    "plt.plot(list(range(len(cost_hist))), cost_hist)\n",
    "plt.title(\"Change in cost\")\n",
    "plt.show()"
   ]
  },
  {
   "cell_type": "code",
   "execution_count": 19,
   "metadata": {},
   "outputs": [
    {
     "data": {
      "image/png": "[encoded data removed]",
      "text/plain": [
       "<Figure size 432x288 with 1 Axes>"
      ]
     },
     "metadata": {
      "needs_background": "light"
     },
     "output_type": "display_data"
    }
   ],
   "source": [
    "plt.plot(list(range(len(acc_hist))), acc_hist)\n",
    "plt.title(\"Change in accuracy\")\n",
    "plt.show() \n",
    "#plt.show()"
   ]
  },
  {
   "cell_type": "code",
   "execution_count": null,
   "metadata": {},
   "outputs": [],
   "source": []
  }
 ],
 "metadata": {
  "kernelspec": {
   "display_name": "Python 3",
   "language": "python",
   "name": "python3"
  },
  "language_info": {
   "codemirror_mode": {
    "name": "ipython",
    "version": 3
   },
   "file_extension": ".py",
   "mimetype": "text/x-python",
   "name": "python",
   "nbconvert_exporter": "python",
   "pygments_lexer": "ipython3",
   "version": "3.7.3"
  }
 },
 "nbformat": 4,
 "nbformat_minor": 2
}
